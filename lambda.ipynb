{
  "nbformat": 4,
  "nbformat_minor": 0,
  "metadata": {
    "colab": {
      "name": "lambda.ipynb",
      "version": "0.3.2",
      "provenance": [],
      "include_colab_link": true
    },
    "kernelspec": {
      "name": "python3",
      "display_name": "Python 3"
    }
  },
  "cells": [
    {
      "cell_type": "markdown",
      "metadata": {
        "id": "view-in-github",
        "colab_type": "text"
      },
      "source": [
        "<a href=\"https://colab.research.google.com/github/ASHTYAGI2911/Python3/blob/master/lambda.ipynb\" target=\"_parent\"><img src=\"https://colab.research.google.com/assets/colab-badge.svg\" alt=\"Open In Colab\"/></a>"
      ]
    },
    {
      "metadata": {
        "id": "WibW9GZe-MNB",
        "colab_type": "text"
      },
      "cell_type": "markdown",
      "source": [
        "# **Lambda**"
      ]
    },
    {
      "metadata": {
        "id": "IdBbAYF79J_T",
        "colab_type": "code",
        "colab": {
          "base_uri": "https://localhost:8080/",
          "height": 34
        },
        "outputId": "01eb2e93-cb38-45f9-bf01-063162d4ac56"
      },
      "cell_type": "code",
      "source": [
        "def sum(a, b):\n",
        "  c = a + b\n",
        "  return c\n",
        "\n",
        "r = sum(3, 6)\n",
        "print(r)"
      ],
      "execution_count": 1,
      "outputs": [
        {
          "output_type": "stream",
          "text": [
            "9\n"
          ],
          "name": "stdout"
        }
      ]
    },
    {
      "metadata": {
        "id": "Xo46Jap1-n7X",
        "colab_type": "text"
      },
      "cell_type": "markdown",
      "source": [
        "*Result using lambda function*"
      ]
    },
    {
      "metadata": {
        "id": "wkMnjdGf-u5j",
        "colab_type": "code",
        "colab": {
          "base_uri": "https://localhost:8080/",
          "height": 34
        },
        "outputId": "9c0da76b-dd8d-4430-99a9-ec628b3eb666"
      },
      "cell_type": "code",
      "source": [
        "r = lambda a,b : a + b\n",
        "\n",
        "print(r(3, 6))"
      ],
      "execution_count": 7,
      "outputs": [
        {
          "output_type": "stream",
          "text": [
            "9\n"
          ],
          "name": "stdout"
        }
      ]
    }
  ]
}