{
  "nbformat": 4,
  "nbformat_minor": 0,
  "metadata": {
    "colab": {
      "name": "Groupby - Data Analysis with Python and Pandas p.3.ipynb",
      "version": "0.3.2",
      "provenance": [],
      "include_colab_link": true
    },
    "kernelspec": {
      "name": "python3",
      "display_name": "Python 3"
    }
  },
  "cells": [
    {
      "cell_type": "markdown",
      "metadata": {
        "id": "view-in-github",
        "colab_type": "text"
      },
      "source": [
        "<a href=\"https://colab.research.google.com/github/ASHTYAGI2911/Python3/blob/master/Groupby_Data_Analysis_with_Python_and_Pandas_p_3.ipynb\" target=\"_parent\"><img src=\"https://colab.research.google.com/assets/colab-badge.svg\" alt=\"Open In Colab\"/></a>"
      ]
    },
    {
      "cell_type": "markdown",
      "metadata": {
        "id": "O3IorE4rgHLq",
        "colab_type": "text"
      },
      "source": [
        "# Groupby - Data Analysis with Python and Pandas p.3"
      ]
    },
    {
      "cell_type": "markdown",
      "metadata": {
        "id": "-EeJWpbIgLDw",
        "colab_type": "text"
      },
      "source": [
        "[Groupby - Data Analysis with Python and Pandas p.3](https://www.youtube.com/watch?v=fPufVcItDzs&list=PLQVvvaa0QuDfSfqQuee6K8opKtZsh7sA9&index=3)"
      ]
    },
    {
      "cell_type": "code",
      "metadata": {
        "id": "pTmkO3HPhJNs",
        "colab_type": "code",
        "colab": {}
      },
      "source": [
        "pip install pandas matplotlib"
      ],
      "execution_count": 0,
      "outputs": []
    },
    {
      "cell_type": "code",
      "metadata": {
        "id": "ACjyFwPaeY20",
        "colab_type": "code",
        "colab": {}
      },
      "source": [
        "import pandas as pd\n",
        "from google.colab import files\n",
        "load_here = files.upload()"
      ],
      "execution_count": 0,
      "outputs": []
    },
    {
      "cell_type": "code",
      "metadata": {
        "id": "7qE9D60Lh759",
        "colab_type": "code",
        "colab": {}
      },
      "source": [
        "load_here"
      ],
      "execution_count": 0,
      "outputs": []
    },
    {
      "cell_type": "code",
      "metadata": {
        "id": "PBubQyxMhI01",
        "colab_type": "code",
        "colab": {}
      },
      "source": [
        "import io\n",
        "df = pd.read_csv(io.StringIO(load_here[\"Minimum Wage Data.csv\"].decode(\"latin\")))"
      ],
      "execution_count": 0,
      "outputs": []
    },
    {
      "cell_type": "code",
      "metadata": {
        "id": "5Q2HghUPhIy7",
        "colab_type": "code",
        "colab": {}
      },
      "source": [
        "df.to_csv(\"minwage.csv\", encoding=\"latin\")"
      ],
      "execution_count": 0,
      "outputs": []
    },
    {
      "cell_type": "code",
      "metadata": {
        "id": "YaDkcx5UhIvH",
        "colab_type": "code",
        "colab": {}
      },
      "source": [
        "df = pd.read_csv(\"minwage.csv\", encoding=\"latin\")\n",
        "df = df.copy()"
      ],
      "execution_count": 0,
      "outputs": []
    },
    {
      "cell_type": "code",
      "metadata": {
        "id": "F7v4JA3HhItD",
        "colab_type": "code",
        "colab": {}
      },
      "source": [
        "df.head()"
      ],
      "execution_count": 0,
      "outputs": []
    },
    {
      "cell_type": "code",
      "metadata": {
        "id": "BYtudOkmhIpC",
        "colab_type": "code",
        "colab": {}
      },
      "source": [
        "# df.set_index(\"Year\")\n",
        "\n",
        "gb = df.groupby(\"State\")\n",
        "gb.head()\n",
        "gb.get_group(\"Alabama\").set_index(\"Year\").head()"
      ],
      "execution_count": 0,
      "outputs": []
    },
    {
      "cell_type": "code",
      "metadata": {
        "id": "U_ONzPGIhImO",
        "colab_type": "code",
        "colab": {}
      },
      "source": [
        "gb.head()"
      ],
      "execution_count": 0,
      "outputs": []
    },
    {
      "cell_type": "code",
      "metadata": {
        "id": "yxJnmkpOhIjh",
        "colab_type": "code",
        "colab": {}
      },
      "source": [
        "act_min_wage = pd.DataFrame()\n",
        "\n",
        "for name, group in df.groupby(\"State\"):\n",
        "  # print(name, group)\n",
        "  if act_min_wage.empty:\n",
        "    act_min_wage = group.set_index(\"Year\")[[\"Low.2018\"]].rename(columns={\"Low.2018\":name})\n",
        "  else:\n",
        "    act_min_wage = act_min_wage.join(group.set_index(\"Year\")[[\"Low.2018\"]].rename(columns={\"Low.2018\":name}))\n",
        "\n",
        "act_min_wage.head()"
      ],
      "execution_count": 0,
      "outputs": []
    },
    {
      "cell_type": "code",
      "metadata": {
        "id": "MOw_LBYXhIhC",
        "colab_type": "code",
        "colab": {}
      },
      "source": [
        "act_min_wage.describe()"
      ],
      "execution_count": 0,
      "outputs": []
    },
    {
      "cell_type": "code",
      "metadata": {
        "id": "LVdcBwzMhIen",
        "colab_type": "code",
        "colab": {}
      },
      "source": [
        "act_min_wage.corr().head()"
      ],
      "execution_count": 0,
      "outputs": []
    },
    {
      "cell_type": "code",
      "metadata": {
        "id": "u9GbebO4hIa_",
        "colab_type": "code",
        "colab": {}
      },
      "source": [
        "df[df[\"State\"] == \"Alabama\"]"
      ],
      "execution_count": 0,
      "outputs": []
    },
    {
      "cell_type": "code",
      "metadata": {
        "id": "hUW8DiCjhIYk",
        "colab_type": "code",
        "colab": {}
      },
      "source": [
        "issue_df = df[ df[\"Low.2018\"] == 0]\n",
        "\n",
        "issue_df.head()"
      ],
      "execution_count": 0,
      "outputs": []
    },
    {
      "cell_type": "code",
      "metadata": {
        "id": "5U0oFtj2hIVO",
        "colab_type": "code",
        "colab": {}
      },
      "source": [
        "issue_df[\"State\"].unique()"
      ],
      "execution_count": 0,
      "outputs": []
    },
    {
      "cell_type": "code",
      "metadata": {
        "id": "2KGiWvf-hISj",
        "colab_type": "code",
        "colab": {}
      },
      "source": [
        "import numpy as np\n",
        "\n",
        "act_min_wage.replace(0, np.NaN).dropna(axis=1)"
      ],
      "execution_count": 0,
      "outputs": []
    },
    {
      "cell_type": "code",
      "metadata": {
        "id": "-ageNcJchIPn",
        "colab_type": "code",
        "colab": {}
      },
      "source": [
        ""
      ],
      "execution_count": 0,
      "outputs": []
    }
  ]
}