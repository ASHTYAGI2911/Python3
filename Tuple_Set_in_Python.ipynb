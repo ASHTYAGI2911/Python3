{
  "nbformat": 4,
  "nbformat_minor": 0,
  "metadata": {
    "colab": {
      "name": "Tuple-Set in Python.ipynb",
      "version": "0.3.2",
      "provenance": [],
      "include_colab_link": true
    },
    "kernelspec": {
      "name": "python3",
      "display_name": "Python 3"
    }
  },
  "cells": [
    {
      "cell_type": "markdown",
      "metadata": {
        "id": "view-in-github",
        "colab_type": "text"
      },
      "source": [
        "<a href=\"https://colab.research.google.com/github/ASHTYAGI2911/Python3/blob/master/Tuple_Set_in_Python.ipynb\" target=\"_parent\"><img src=\"https://colab.research.google.com/assets/colab-badge.svg\" alt=\"Open In Colab\"/></a>"
      ]
    },
    {
      "metadata": {
        "id": "erL47lslmE1M",
        "colab_type": "text"
      },
      "cell_type": "markdown",
      "source": [
        "# Tuple-Set in Python"
      ]
    },
    {
      "metadata": {
        "id": "J13rcvE5nKgJ",
        "colab_type": "text"
      },
      "cell_type": "markdown",
      "source": [
        "**TUPLE**"
      ]
    },
    {
      "metadata": {
        "id": "OTeHGyC3mzz5",
        "colab_type": "text"
      },
      "cell_type": "markdown",
      "source": [
        "Tuples are imutable *We canot change its value* we can not edit tuple"
      ]
    },
    {
      "metadata": {
        "id": "GQffqsOQlzt2",
        "colab_type": "code",
        "colab": {}
      },
      "cell_type": "code",
      "source": [
        "t = (1, 2, 1, 5, 6, 4, 6, 7)\n",
        "print(t)\n",
        "print(type(t))"
      ],
      "execution_count": 0,
      "outputs": []
    },
    {
      "metadata": {
        "id": "Mo0MQRVjmRQc",
        "colab_type": "code",
        "colab": {}
      },
      "cell_type": "code",
      "source": [
        "t.count(1)"
      ],
      "execution_count": 0,
      "outputs": []
    },
    {
      "metadata": {
        "id": "9s8SsKNHmRTz",
        "colab_type": "code",
        "colab": {}
      },
      "cell_type": "code",
      "source": [
        "t.index(5)"
      ],
      "execution_count": 0,
      "outputs": []
    },
    {
      "metadata": {
        "id": "DrtGRvUtnN1n",
        "colab_type": "text"
      },
      "cell_type": "markdown",
      "source": [
        "**SET**"
      ]
    },
    {
      "metadata": {
        "id": "OpY3bVVfncHi",
        "colab_type": "text"
      },
      "cell_type": "markdown",
      "source": [
        "in set we can not store duplicate values"
      ]
    },
    {
      "metadata": {
        "id": "3yVfJ9Mynkqs",
        "colab_type": "code",
        "colab": {}
      },
      "cell_type": "code",
      "source": [
        "s = {1, 2, 99, 6, 3, 5, 5, 6, 7, 88, 99, 7, 9}\n",
        "print(s)"
      ],
      "execution_count": 0,
      "outputs": []
    },
    {
      "metadata": {
        "id": "xIk-KzuzmRXI",
        "colab_type": "code",
        "colab": {}
      },
      "cell_type": "code",
      "source": [
        "sorted(s)"
      ],
      "execution_count": 0,
      "outputs": []
    }
  ]
}