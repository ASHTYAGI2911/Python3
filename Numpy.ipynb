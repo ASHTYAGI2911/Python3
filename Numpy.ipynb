{
  "nbformat": 4,
  "nbformat_minor": 0,
  "metadata": {
    "colab": {
      "name": "Numpy.ipynb",
      "version": "0.3.2",
      "provenance": [],
      "include_colab_link": true
    },
    "kernelspec": {
      "name": "python3",
      "display_name": "Python 3"
    }
  },
  "cells": [
    {
      "cell_type": "markdown",
      "metadata": {
        "id": "view-in-github",
        "colab_type": "text"
      },
      "source": [
        "<a href=\"https://colab.research.google.com/github/ASHTYAGI2911/Python3/blob/master/Numpy.ipynb\" target=\"_parent\"><img src=\"https://colab.research.google.com/assets/colab-badge.svg\" alt=\"Open In Colab\"/></a>"
      ]
    },
    {
      "metadata": {
        "id": "vzHSHV8I6qS2",
        "colab_type": "text"
      },
      "cell_type": "markdown",
      "source": [
        "# **Numpy**"
      ]
    },
    {
      "metadata": {
        "id": "9Gs_o-DK4ttE",
        "colab_type": "code",
        "colab": {}
      },
      "cell_type": "code",
      "source": [
        "from numpy import *"
      ],
      "execution_count": 0,
      "outputs": []
    },
    {
      "metadata": {
        "id": "27I2TaUM62Hq",
        "colab_type": "code",
        "colab": {}
      },
      "cell_type": "code",
      "source": [
        "arr = array([1, 2, 3])\n",
        "print(type(arr))\n",
        "print(arr)\n",
        "print(arr.dtype)\n",
        "print(arr.ndim)"
      ],
      "execution_count": 0,
      "outputs": []
    },
    {
      "metadata": {
        "id": "TVuMdZZs62K9",
        "colab_type": "code",
        "colab": {}
      },
      "cell_type": "code",
      "source": [
        "arr = linspace(0, 16, 16)\n",
        "print(arr)"
      ],
      "execution_count": 0,
      "outputs": []
    },
    {
      "metadata": {
        "id": "m9XbsAra9n6G",
        "colab_type": "code",
        "colab": {}
      },
      "cell_type": "code",
      "source": [
        "arr = linspace(0, 15, 16)\n",
        "print(arr)"
      ],
      "execution_count": 0,
      "outputs": []
    },
    {
      "metadata": {
        "id": "vPFn4L-F62OG",
        "colab_type": "code",
        "colab": {}
      },
      "cell_type": "code",
      "source": [
        "arr = arange(1, 10, 3)\n",
        "print(arr)"
      ],
      "execution_count": 0,
      "outputs": []
    },
    {
      "metadata": {
        "id": "RhlQIIR_62RJ",
        "colab_type": "code",
        "colab": {}
      },
      "cell_type": "code",
      "source": [
        "arr = logspace(1, 20, 5) # \n",
        "print(arr)"
      ],
      "execution_count": 0,
      "outputs": []
    },
    {
      "metadata": {
        "id": "mKfsv7xy62Za",
        "colab_type": "code",
        "colab": {}
      },
      "cell_type": "code",
      "source": [
        "a = zeros(5)\n",
        "print(a)\n",
        "b = ones(9)\n",
        "print(b)"
      ],
      "execution_count": 0,
      "outputs": []
    },
    {
      "metadata": {
        "id": "N3kLkdv262cp",
        "colab_type": "code",
        "colab": {}
      },
      "cell_type": "code",
      "source": [
        "arr = array([1, 3, 6, 8, 9, 1, 3, 6, 8, 9])\n",
        "print(arr)\n",
        "print(arr.shape)"
      ],
      "execution_count": 0,
      "outputs": []
    },
    {
      "metadata": {
        "id": "pKvJ1j7W62Wr",
        "colab_type": "code",
        "colab": {}
      },
      "cell_type": "code",
      "source": [
        "arr2 = arr + 5\n",
        "print(arr2)"
      ],
      "execution_count": 0,
      "outputs": []
    },
    {
      "metadata": {
        "id": "5040JK4P62UH",
        "colab_type": "code",
        "colab": {}
      },
      "cell_type": "code",
      "source": [
        "arr1 = array([1, 2, 3, 5, 7, 2])\n",
        "arr2 = array([1, 2, 3, 5, 7, 2])\n",
        "n = len(arr1)\n",
        "arr3 = zeros(n)\n",
        "for i in range(0, n):\n",
        "  arr3[i] = arr1[i] + arr2[i]\n",
        "print(arr3)"
      ],
      "execution_count": 0,
      "outputs": []
    },
    {
      "metadata": {
        "id": "0M1CEk2fD870",
        "colab_type": "code",
        "colab": {}
      },
      "cell_type": "code",
      "source": [
        "arr = array([111, 2, 3, 61, 3, 2, 9, 4, 800])\n",
        "max = arr[0]\n",
        "for i in range(1, len(arr)):\n",
        "  if (max <= arr[i]):\n",
        "    max = arr[i]\n",
        "  else:\n",
        "    max = max\n",
        "print(max)"
      ],
      "execution_count": 0,
      "outputs": []
    },
    {
      "metadata": {
        "id": "C4RosZupHBRL",
        "colab_type": "code",
        "colab": {}
      },
      "cell_type": "code",
      "source": [
        "arr = array([\n",
        "    [1, 2, 3],\n",
        "    [4, 5, 6]\n",
        "])\n",
        "\n",
        "print(arr)\n",
        "print(arr.ndim)\n",
        "print(arr.size)\n",
        "print(arr.shape)\n",
        "\n",
        "arr1 = arr.flatten()\n",
        "print(arr1)"
      ],
      "execution_count": 0,
      "outputs": []
    }
  ]
}