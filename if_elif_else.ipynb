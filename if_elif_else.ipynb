{
  "nbformat": 4,
  "nbformat_minor": 0,
  "metadata": {
    "colab": {
      "name": "if_elif_else.ipynb",
      "version": "0.3.2",
      "provenance": [],
      "include_colab_link": true
    },
    "kernelspec": {
      "name": "python3",
      "display_name": "Python 3"
    }
  },
  "cells": [
    {
      "cell_type": "markdown",
      "metadata": {
        "id": "view-in-github",
        "colab_type": "text"
      },
      "source": [
        "<a href=\"https://colab.research.google.com/github/ASHTYAGI2911/Python3/blob/master/if_elif_else.ipynb\" target=\"_parent\"><img src=\"https://colab.research.google.com/assets/colab-badge.svg\" alt=\"Open In Colab\"/></a>"
      ]
    },
    {
      "metadata": {
        "id": "acxaPy_nzj8p",
        "colab_type": "text"
      },
      "cell_type": "markdown",
      "source": [
        "#if_elif_else"
      ]
    },
    {
      "metadata": {
        "id": "QsvNdonTzc6w",
        "colab_type": "code",
        "colab": {}
      },
      "cell_type": "code",
      "source": [
        "a = 12\n",
        "if (a % 2 == 0):\n",
        "  print(a, \" is an even number.\")"
      ],
      "execution_count": 0,
      "outputs": []
    },
    {
      "metadata": {
        "id": "ddT4gkV01wU3",
        "colab_type": "text"
      },
      "cell_type": "markdown",
      "source": [
        "### **`Enter number is even or odd, by if else`**"
      ]
    },
    {
      "metadata": {
        "id": "KrLjGWgPz9mA",
        "colab_type": "code",
        "colab": {}
      },
      "cell_type": "code",
      "source": [
        "b = int(input(\"Enter a number. - \"))\n",
        "if (b % 2 == 0):\n",
        "  print(b, \" is an even number.\")\n",
        "else:\n",
        "  print(b, \" is an odd number.\")"
      ],
      "execution_count": 0,
      "outputs": []
    },
    {
      "metadata": {
        "id": "R6CTq-b8z9pm",
        "colab_type": "code",
        "colab": {}
      },
      "cell_type": "code",
      "source": [
        "b = int(input(\"Enter a number (<=5). - \"))\n",
        "if (b==1):\n",
        "  print(\"one\")\n",
        "elif (b==2):\n",
        "  print(\"two\")\n",
        "elif (b==3):\n",
        "  print(\"three\")\n",
        "elif (b==4):\n",
        "  print(\"four\")\n",
        "elif (b==5):\n",
        "  print(\"five\")\n",
        "else:\n",
        "  print(\"number is grater than 5\")"
      ],
      "execution_count": 0,
      "outputs": []
    },
    {
      "metadata": {
        "id": "dsoHyPJw1-CN",
        "colab_type": "text"
      },
      "cell_type": "markdown",
      "source": [
        "\n",
        "**Find the gratest from 3 values, entered by user** "
      ]
    },
    {
      "metadata": {
        "id": "3WUl471Dz9tD",
        "colab_type": "code",
        "colab": {}
      },
      "cell_type": "code",
      "source": [
        "a = int(input(\"Enter 1st number. :- \"))\n",
        "b = int(input(\"Enter 2nd number. :- \"))\n",
        "c = int(input(\"Enter 3rd number. :- \"))\n",
        "\n",
        "if (a > b):\n",
        "  if (a > c):\n",
        "    print(a, \"is greatest\")\n",
        "    print(a,\">\",b,\">\",c)\n",
        "  else:\n",
        "    print(c, \"is greatest\")\n",
        "    print(c,\">\",a,\">\",b)\n",
        "else:\n",
        "  if (b > c):\n",
        "    print(b, \"is greatest\")\n",
        "    print(b,\">\",c,\">\",a)\n",
        "  else:\n",
        "    print(c, \"is greatest\")\n",
        "    print(c,\">\",b,\">\",a)"
      ],
      "execution_count": 0,
      "outputs": []
    }
  ]
}