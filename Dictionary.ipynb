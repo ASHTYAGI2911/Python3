{
  "nbformat": 4,
  "nbformat_minor": 0,
  "metadata": {
    "colab": {
      "name": "Dictionary.ipynb",
      "version": "0.3.2",
      "provenance": [],
      "include_colab_link": true
    },
    "kernelspec": {
      "name": "python3",
      "display_name": "Python 3"
    }
  },
  "cells": [
    {
      "cell_type": "markdown",
      "metadata": {
        "id": "view-in-github",
        "colab_type": "text"
      },
      "source": [
        "<a href=\"https://colab.research.google.com/github/ASHTYAGI2911/Python3/blob/master/Dictionary.ipynb\" target=\"_parent\"><img src=\"https://colab.research.google.com/assets/colab-badge.svg\" alt=\"Open In Colab\"/></a>"
      ]
    },
    {
      "metadata": {
        "id": "Pt6lSzg0sFD8",
        "colab_type": "text"
      },
      "cell_type": "markdown",
      "source": [
        "#Dictionary"
      ]
    },
    {
      "metadata": {
        "id": "Ehj4fR_nprrC",
        "colab_type": "code",
        "colab": {}
      },
      "cell_type": "code",
      "source": [
        "a = None\n",
        "print(a)\n",
        "print(type(a))"
      ],
      "execution_count": 0,
      "outputs": []
    },
    {
      "metadata": {
        "id": "m89L9XYesDd-",
        "colab_type": "text"
      },
      "cell_type": "markdown",
      "source": [
        "Dictionary are in key values pair, like below"
      ]
    },
    {
      "metadata": {
        "id": "EBiqwmfLqQWa",
        "colab_type": "code",
        "colab": {}
      },
      "cell_type": "code",
      "source": [
        "x = {\"a\":12, \"b\":13, \"d\":14, \"f\":66, \"g\":87}\n",
        "print(x)"
      ],
      "execution_count": 0,
      "outputs": []
    },
    {
      "metadata": {
        "id": "WdJJ8qbosUDt",
        "colab_type": "text"
      },
      "cell_type": "markdown",
      "source": [
        "**Key**"
      ]
    },
    {
      "metadata": {
        "id": "R4U0Q-81qQZb",
        "colab_type": "code",
        "colab": {}
      },
      "cell_type": "code",
      "source": [
        "print(x.keys())"
      ],
      "execution_count": 0,
      "outputs": []
    },
    {
      "metadata": {
        "id": "8dzkiyEnsbp8",
        "colab_type": "text"
      },
      "cell_type": "markdown",
      "source": [
        "**Values**"
      ]
    },
    {
      "metadata": {
        "id": "YyQBtt77qQc5",
        "colab_type": "code",
        "colab": {}
      },
      "cell_type": "code",
      "source": [
        "print(x.values())"
      ],
      "execution_count": 0,
      "outputs": []
    },
    {
      "metadata": {
        "id": "2HP5HGPPs2nh",
        "colab_type": "text"
      },
      "cell_type": "markdown",
      "source": [
        "We can access dictionary by get method or by []"
      ]
    },
    {
      "metadata": {
        "id": "rsh23SvgqQgL",
        "colab_type": "code",
        "colab": {}
      },
      "cell_type": "code",
      "source": [
        "print(x.get(\"a\"))\n",
        "print(x[\"a\"])"
      ],
      "execution_count": 0,
      "outputs": []
    },
    {
      "metadata": {
        "id": "Plgzc7_IqQjf",
        "colab_type": "code",
        "colab": {}
      },
      "cell_type": "code",
      "source": [
        "x.items()"
      ],
      "execution_count": 0,
      "outputs": []
    },
    {
      "metadata": {
        "id": "fj3rvA2SqQmg",
        "colab_type": "code",
        "colab": {}
      },
      "cell_type": "code",
      "source": [
        "l = list(x.keys())\n",
        "print(l)"
      ],
      "execution_count": 0,
      "outputs": []
    },
    {
      "metadata": {
        "id": "jHKbb_AIuJeN",
        "colab_type": "text"
      },
      "cell_type": "markdown",
      "source": [
        "# Swap 2 Variables in Python"
      ]
    },
    {
      "metadata": {
        "id": "k1UnxxeyqQtL",
        "colab_type": "code",
        "colab": {}
      },
      "cell_type": "code",
      "source": [
        "a = 10\n",
        "b = 20"
      ],
      "execution_count": 0,
      "outputs": []
    },
    {
      "metadata": {
        "id": "Z2dwA7EoqQwy",
        "colab_type": "code",
        "colab": {}
      },
      "cell_type": "code",
      "source": [
        "c = a\n",
        "a = b\n",
        "b = c"
      ],
      "execution_count": 0,
      "outputs": []
    },
    {
      "metadata": {
        "id": "MH4WioiouSuc",
        "colab_type": "code",
        "colab": {}
      },
      "cell_type": "code",
      "source": [
        "print(\"a = \", a, \"\\nb = \", b)"
      ],
      "execution_count": 0,
      "outputs": []
    },
    {
      "metadata": {
        "id": "dEfgvHwnuSyP",
        "colab_type": "code",
        "colab": {}
      },
      "cell_type": "code",
      "source": [
        "a, b = b, a"
      ],
      "execution_count": 0,
      "outputs": []
    },
    {
      "metadata": {
        "id": "mq22FYfSuS14",
        "colab_type": "code",
        "colab": {}
      },
      "cell_type": "code",
      "source": [
        "print(\"a = \", a, \"\\nb = \", b)"
      ],
      "execution_count": 0,
      "outputs": []
    }
  ]
}