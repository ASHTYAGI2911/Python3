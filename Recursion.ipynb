{
  "nbformat": 4,
  "nbformat_minor": 0,
  "metadata": {
    "colab": {
      "name": "Recursion.ipynb",
      "version": "0.3.2",
      "provenance": [],
      "include_colab_link": true
    },
    "kernelspec": {
      "name": "python3",
      "display_name": "Python 3"
    }
  },
  "cells": [
    {
      "cell_type": "markdown",
      "metadata": {
        "id": "view-in-github",
        "colab_type": "text"
      },
      "source": [
        "<a href=\"https://colab.research.google.com/github/ASHTYAGI2911/Python3/blob/master/Recursion.ipynb\" target=\"_parent\"><img src=\"https://colab.research.google.com/assets/colab-badge.svg\" alt=\"Open In Colab\"/></a>"
      ]
    },
    {
      "metadata": {
        "id": "WqoAkKQC66VC",
        "colab_type": "text"
      },
      "cell_type": "markdown",
      "source": [
        "# **Recursion**\n",
        "Factorial of a number"
      ]
    },
    {
      "metadata": {
        "id": "JAW6-WbW63Sj",
        "colab_type": "code",
        "colab": {}
      },
      "cell_type": "code",
      "source": [
        "n = int(input(\"Enter a number for factorial :- \"))\n",
        "\n",
        "def fect(n):\n",
        "  j = 1\n",
        "  if (n == 1):\n",
        "    return 1\n",
        "  else:\n",
        "    n = n * fect(n - 1)\n",
        "    return n\n",
        "\n",
        "result = fect(n)\n",
        "print(result)"
      ],
      "execution_count": 0,
      "outputs": []
    }
  ]
}