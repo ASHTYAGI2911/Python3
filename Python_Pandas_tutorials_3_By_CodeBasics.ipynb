{
  "nbformat": 4,
  "nbformat_minor": 0,
  "metadata": {
    "colab": {
      "name": "Python Pandas tutorials 3 By CodeBasics.ipynb",
      "version": "0.3.2",
      "provenance": [],
      "include_colab_link": true
    },
    "kernelspec": {
      "name": "python3",
      "display_name": "Python 3"
    }
  },
  "cells": [
    {
      "cell_type": "markdown",
      "metadata": {
        "id": "view-in-github",
        "colab_type": "text"
      },
      "source": [
        "<a href=\"https://colab.research.google.com/github/ASHTYAGI2911/Python3/blob/master/Python_Pandas_tutorials_3_By_CodeBasics.ipynb\" target=\"_parent\"><img src=\"https://colab.research.google.com/assets/colab-badge.svg\" alt=\"Open In Colab\"/></a>"
      ]
    },
    {
      "cell_type": "markdown",
      "metadata": {
        "id": "YOG2pH5zP0Nr",
        "colab_type": "text"
      },
      "source": [
        "# Python Pandas tutorials 3 By CodeBasics"
      ]
    },
    {
      "cell_type": "code",
      "metadata": {
        "id": "ON7RJZ8jPuQW",
        "colab_type": "code",
        "colab": {}
      },
      "source": [
        "import pandas as pd\n",
        "from google.colab import files\n",
        "import io"
      ],
      "execution_count": 0,
      "outputs": []
    },
    {
      "cell_type": "code",
      "metadata": {
        "id": "bSeo2h8WQMGq",
        "colab_type": "code",
        "colab": {}
      },
      "source": [
        "load_here = files.upload()"
      ],
      "execution_count": 0,
      "outputs": []
    },
    {
      "cell_type": "code",
      "metadata": {
        "id": "v3RSj-TbQMD4",
        "colab_type": "code",
        "colab": {}
      },
      "source": [
        "df = pd.read_csv(io.StringIO(load_here[\"weather_data2.csv\"].decode(\"utf-8\")))\n",
        "df"
      ],
      "execution_count": 0,
      "outputs": []
    },
    {
      "cell_type": "code",
      "metadata": {
        "id": "s_3GfktWQMAx",
        "colab_type": "code",
        "colab": {}
      },
      "source": [
        "df = df[[\"day\", \"temperature\", \"windspeed\", \"event\"]]"
      ],
      "execution_count": 0,
      "outputs": []
    },
    {
      "cell_type": "code",
      "metadata": {
        "id": "VYmEgn7GQL-M",
        "colab_type": "code",
        "colab": {}
      },
      "source": [
        "df"
      ],
      "execution_count": 0,
      "outputs": []
    },
    {
      "cell_type": "markdown",
      "metadata": {
        "id": "CxQHADO6Tw95",
        "colab_type": "text"
      },
      "source": [
        "Video 4"
      ]
    },
    {
      "cell_type": "code",
      "metadata": {
        "id": "mo6oz3dPQL6X",
        "colab_type": "code",
        "colab": {}
      },
      "source": [
        "load_here = files.upload()"
      ],
      "execution_count": 0,
      "outputs": []
    },
    {
      "cell_type": "code",
      "metadata": {
        "id": "is8NEapnQL3Y",
        "colab_type": "code",
        "colab": {}
      },
      "source": [
        "df = pd.read_csv(io.StringIO(load_here[\"stock_data.csv\"].decode(\"utf-8\")), skiprows=1, header=False)\n",
        "df"
      ],
      "execution_count": 0,
      "outputs": []
    },
    {
      "cell_type": "code",
      "metadata": {
        "id": "2M_MSvd6k3NT",
        "colab_type": "code",
        "colab": {}
      },
      "source": [
        "df = pd.read_csv(io.StringIO(load_here[\"stock_data.csv\"].decode(\"utf-8\")), header=None, names=[\"tickers\", \"eps\", \"revenue\", \"price\", \"people\"])\n",
        "df"
      ],
      "execution_count": 0,
      "outputs": []
    },
    {
      "cell_type": "code",
      "metadata": {
        "id": "hvGNFsEuQLz0",
        "colab_type": "code",
        "colab": {}
      },
      "source": [
        "df = pd.read_csv(io.StringIO(load_here[\"stock_data.csv\"].decode(\"utf-8\")), nrows=3)\n",
        "df"
      ],
      "execution_count": 0,
      "outputs": []
    },
    {
      "cell_type": "code",
      "metadata": {
        "id": "Ef-ZR96jlSe-",
        "colab_type": "code",
        "colab": {}
      },
      "source": [
        "df = pd.read_csv(io.StringIO(load_here[\"stock_data.csv\"].decode(\"utf-8\")), na_values=[\"not available\", \"n.a.\"])\n",
        "\n",
        "df = pd.read_csv(io.StringIO(load_here[\"stock_data.csv\"].decode(\"utf-8\")), na_values={\n",
        "    \"revenue\" : [\"not available\", \"n.a.\", -1],\n",
        "    \"eps\" : [\"not available\", \"n.a.\"],\n",
        "    \"people\" : [\"not available\", \"n.a.\"]    \n",
        "})\n",
        "df"
      ],
      "execution_count": 0,
      "outputs": []
    },
    {
      "cell_type": "code",
      "metadata": {
        "id": "j3Dq2D38lSYl",
        "colab_type": "code",
        "colab": {}
      },
      "source": [
        "df.to_csv(\"Newcsv.csv\", index=False, columns=[\"eps\", \"price\"], header=False)"
      ],
      "execution_count": 0,
      "outputs": []
    },
    {
      "cell_type": "code",
      "metadata": {
        "id": "l9Mb4LFLlSUb",
        "colab_type": "code",
        "colab": {}
      },
      "source": [
        "df.to_excel(\"Newexcel.xlsx\", sheet_name=\"Sheet1\", startrow=1, startcol=2)"
      ],
      "execution_count": 0,
      "outputs": []
    },
    {
      "cell_type": "code",
      "metadata": {
        "id": "WuYWfJrNmzDG",
        "colab_type": "code",
        "colab": {}
      },
      "source": [
        "df_Stocks\n",
        "df_Weather"
      ],
      "execution_count": 0,
      "outputs": []
    },
    {
      "cell_type": "code",
      "metadata": {
        "id": "XAju0BJNmy_j",
        "colab_type": "code",
        "colab": {}
      },
      "source": [
        "with pd.ExcelWriter(\"Ecel_with_2_sheets.xlsx\") as writer:\n",
        "  df_stocks.to_excel(writer, sheet_name=\"Stocks\")\n",
        "  df_Weather.to_excel(writer, sheet_name=\"Weather\")"
      ],
      "execution_count": 0,
      "outputs": []
    },
    {
      "cell_type": "code",
      "metadata": {
        "id": "VNM28PZ0my8w",
        "colab_type": "code",
        "colab": {}
      },
      "source": [
        "load_here = files.upload()"
      ],
      "execution_count": 0,
      "outputs": []
    },
    {
      "cell_type": "code",
      "metadata": {
        "id": "0DYwq3Plmy4-",
        "colab_type": "code",
        "colab": {}
      },
      "source": [
        "df = pd.read_csv(io.StringIO(load_here[\"NY_weather_data.csv\"].decode(\"utf-8\")), parse_dates=[\"day\"])\n",
        "\n",
        "#  or\n",
        "\n",
        "df = pd.read_csv(io.StringIO(load_here[\"NY_weather_data.csv\"].decode(\"utf-8\")))\n",
        "df[\"day\"] = pd.to_datetime(df[\"day\"])\n",
        "\n",
        "type(df[\"day\"][0])"
      ],
      "execution_count": 0,
      "outputs": []
    },
    {
      "cell_type": "code",
      "metadata": {
        "id": "6wICu73Wmy1G",
        "colab_type": "code",
        "colab": {}
      },
      "source": [
        "df.set_index(\"day\", inplace=True)\n",
        "df"
      ],
      "execution_count": 0,
      "outputs": []
    },
    {
      "cell_type": "code",
      "metadata": {
        "id": "X2In9Llip62h",
        "colab_type": "code",
        "colab": {}
      },
      "source": [
        "df_new = df.fillna(0)\n",
        "df_new"
      ],
      "execution_count": 0,
      "outputs": []
    },
    {
      "cell_type": "code",
      "metadata": {
        "id": "IfC4kEQWqC5Q",
        "colab_type": "code",
        "colab": {}
      },
      "source": [
        "df_new = df.fillna({\n",
        "    \"temperature\" : 0,\n",
        "    \"windspeed\" : 0,\n",
        "    \"event\" : \"No event\"\n",
        "})\n",
        "df_new"
      ],
      "execution_count": 0,
      "outputs": []
    },
    {
      "cell_type": "code",
      "metadata": {
        "id": "iAbgb6kkmyuw",
        "colab_type": "code",
        "colab": {}
      },
      "source": [
        "df_new = df.fillna(method=\"ffill\")\n",
        "df_new"
      ],
      "execution_count": 0,
      "outputs": []
    },
    {
      "cell_type": "code",
      "metadata": {
        "id": "PPAfQP14qpS5",
        "colab_type": "code",
        "colab": {}
      },
      "source": [
        "df_new = df.fillna(method=\"bfill\")\n",
        "df_new"
      ],
      "execution_count": 0,
      "outputs": []
    },
    {
      "cell_type": "code",
      "metadata": {
        "id": "jHYktpWxqpQx",
        "colab_type": "code",
        "colab": {}
      },
      "source": [
        "df_new = df.fillna(method=\"ffill\", axis=\"columns\", limit=2)\n",
        "df_new"
      ],
      "execution_count": 0,
      "outputs": []
    },
    {
      "cell_type": "code",
      "metadata": {
        "id": "TuXLEt0pqpMe",
        "colab_type": "code",
        "colab": {}
      },
      "source": [
        "df_new = df.interpolate(method=\"time\")\n",
        "df_new"
      ],
      "execution_count": 0,
      "outputs": []
    },
    {
      "cell_type": "code",
      "metadata": {
        "id": "vZ5TyVeSqpJn",
        "colab_type": "code",
        "colab": {}
      },
      "source": [
        "df_new = df.dropna()\n",
        "df_new"
      ],
      "execution_count": 0,
      "outputs": []
    },
    {
      "cell_type": "code",
      "metadata": {
        "id": "G8m5GZkSqpHk",
        "colab_type": "code",
        "colab": {}
      },
      "source": [
        "df_new = df.dropna(how=\"all\")\n",
        "df_new"
      ],
      "execution_count": 0,
      "outputs": []
    },
    {
      "cell_type": "code",
      "metadata": {
        "id": "e3DrikDeqpEP",
        "colab_type": "code",
        "colab": {}
      },
      "source": [
        "df_new = df.dropna(thresh=2)\n",
        "df_new"
      ],
      "execution_count": 0,
      "outputs": []
    },
    {
      "cell_type": "code",
      "metadata": {
        "id": "cw4WYEp0qpBX",
        "colab_type": "code",
        "colab": {}
      },
      "source": [
        "import numpy as np\n",
        "df_new = df.replace([-999999,-888888], np.NaN)\n",
        "df_new"
      ],
      "execution_count": 0,
      "outputs": []
    },
    {
      "cell_type": "code",
      "metadata": {
        "id": "-blG4Z4Pqo9h",
        "colab_type": "code",
        "colab": {}
      },
      "source": [
        "df_new = df.replace({\n",
        "    \"temperature\" : -9999999999,\n",
        "    \"windspeed\" : -88888888,\n",
        "    \"event\" : 0\n",
        "}, np.NaN)\n",
        "df_new"
      ],
      "execution_count": 0,
      "outputs": []
    },
    {
      "cell_type": "code",
      "metadata": {
        "id": "nje791J1qo56",
        "colab_type": "code",
        "colab": {}
      },
      "source": [
        "df_new = df.replace({\n",
        "    \"temperature\" : \"[A-Za-z]\",\n",
        "    \"windspeed\" : \"[A-Za-z]\"\n",
        "},\" \",regex=True)\n",
        "df_new"
      ],
      "execution_count": 0,
      "outputs": []
    },
    {
      "cell_type": "code",
      "metadata": {
        "id": "LRJUyTZptwJF",
        "colab_type": "code",
        "colab": {}
      },
      "source": [
        "g = df.groupby(\"cities\")\n",
        "\n",
        "g.get_group(\"mumbai\")\n",
        "\n",
        "g.mean()\n",
        "\n",
        "g.max()\n",
        "\n",
        "g.describe()"
      ],
      "execution_count": 0,
      "outputs": []
    },
    {
      "cell_type": "code",
      "metadata": {
        "id": "_vZ2FO4-twFx",
        "colab_type": "code",
        "colab": {}
      },
      "source": [
        "%matplotlib inline\n",
        "g.plot()"
      ],
      "execution_count": 0,
      "outputs": []
    },
    {
      "cell_type": "code",
      "metadata": {
        "id": "QLSexCmitwEF",
        "colab_type": "code",
        "colab": {}
      },
      "source": [
        "df1\n",
        "df2"
      ],
      "execution_count": 0,
      "outputs": []
    },
    {
      "cell_type": "code",
      "metadata": {
        "id": "kdY7upC9tv79",
        "colab_type": "code",
        "colab": {}
      },
      "source": [
        "df_new = pd.merge(df1, df2, on=\"city\", how=\"inner\", indicator=True)          # inner by default, outer, right, left\n",
        "df_new"
      ],
      "execution_count": 0,
      "outputs": []
    },
    {
      "cell_type": "code",
      "metadata": {
        "id": "Kykvksw-tv4d",
        "colab_type": "code",
        "colab": {}
      },
      "source": [
        "df.pivot(index=\"Date\", columns=\"City\", values=\"Humidity\")"
      ],
      "execution_count": 0,
      "outputs": []
    },
    {
      "cell_type": "code",
      "metadata": {
        "id": "MgEBAO7rNAkq",
        "colab_type": "code",
        "colab": {}
      },
      "source": [
        "df.pivot_table(index=\"Date\", columns=\"City\", aggfunc=\"sum\", margins=True)     # aggfunc=\"mean\" by default"
      ],
      "execution_count": 0,
      "outputs": []
    },
    {
      "cell_type": "code",
      "metadata": {
        "id": "LlzyRFTVNAhc",
        "colab_type": "code",
        "colab": {}
      },
      "source": [
        "df.pivot_table(index=pd.Grouper(freq=\"M\", key=\"date\"), columns=\"city\")"
      ],
      "execution_count": 0,
      "outputs": []
    },
    {
      "cell_type": "code",
      "metadata": {
        "id": "oL8uicAtNAZx",
        "colab_type": "code",
        "colab": {}
      },
      "source": [
        "df1 = pd.melt(df, id_vars=[\"day\"], var_name=\"City\", value_name=\"Temperature\")\n",
        "df1"
      ],
      "execution_count": 0,
      "outputs": []
    },
    {
      "cell_type": "code",
      "metadata": {
        "id": "TNCq9STINAYE",
        "colab_type": "code",
        "colab": {}
      },
      "source": [
        ""
      ],
      "execution_count": 0,
      "outputs": []
    },
    {
      "cell_type": "code",
      "metadata": {
        "id": "WlvIVmpsNASc",
        "colab_type": "code",
        "colab": {}
      },
      "source": [
        "df = read_excel(\"Weather.xlsx\", \"Sheet1\", header=[0,1])    # because file have 2 header \n",
        "df"
      ],
      "execution_count": 0,
      "outputs": []
    },
    {
      "cell_type": "code",
      "metadata": {
        "id": "cMcOPog1NAPA",
        "colab_type": "code",
        "colab": {}
      },
      "source": [
        "df.stack()   # By default level = 1"
      ],
      "execution_count": 0,
      "outputs": []
    },
    {
      "cell_type": "code",
      "metadata": {
        "id": "QKpn2LkyQDE2",
        "colab_type": "code",
        "colab": {}
      },
      "source": [
        "df.stack(level=0)"
      ],
      "execution_count": 0,
      "outputs": []
    },
    {
      "cell_type": "code",
      "metadata": {
        "id": "4cXfdv06QC4Q",
        "colab_type": "code",
        "colab": {}
      },
      "source": [
        "df_stacked = df.stack()\n",
        "df_stacked"
      ],
      "execution_count": 0,
      "outputs": []
    },
    {
      "cell_type": "code",
      "metadata": {
        "id": "nwiE1z2eQXKi",
        "colab_type": "code",
        "colab": {}
      },
      "source": [
        "df_stacked.unstack()   # unstacked in the orignal format"
      ],
      "execution_count": 0,
      "outputs": []
    },
    {
      "cell_type": "code",
      "metadata": {
        "id": "ANSiHt13QXID",
        "colab_type": "code",
        "colab": {}
      },
      "source": [
        "pd.crosstab(df[\"nationalaty\"], [df[\"sex\"], df[\"hendedness\"]], margins=True)"
      ],
      "execution_count": 0,
      "outputs": []
    },
    {
      "cell_type": "code",
      "metadata": {
        "id": "WWQ5aY3tQXDp",
        "colab_type": "code",
        "colab": {}
      },
      "source": [
        "import numpy as np\n",
        "pd.crosstab(df[\"sex\"], df[\"hendedness\"], values=df[\"age\"], aggfunc=np.average )"
      ],
      "execution_count": 0,
      "outputs": []
    },
    {
      "cell_type": "code",
      "metadata": {
        "id": "E6syFjghQXB0",
        "colab_type": "code",
        "colab": {}
      },
      "source": [
        ""
      ],
      "execution_count": 0,
      "outputs": []
    },
    {
      "cell_type": "code",
      "metadata": {
        "id": "_n-U10ExQW88",
        "colab_type": "code",
        "colab": {}
      },
      "source": [
        ""
      ],
      "execution_count": 0,
      "outputs": []
    },
    {
      "cell_type": "code",
      "metadata": {
        "id": "db-nn4xjQW2E",
        "colab_type": "code",
        "colab": {}
      },
      "source": [
        ""
      ],
      "execution_count": 0,
      "outputs": []
    }
  ]
}