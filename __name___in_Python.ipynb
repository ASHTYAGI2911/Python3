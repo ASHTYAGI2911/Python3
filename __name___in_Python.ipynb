{
  "nbformat": 4,
  "nbformat_minor": 0,
  "metadata": {
    "colab": {
      "name": "__name__ in Python.ipynb",
      "version": "0.3.2",
      "provenance": [],
      "include_colab_link": true
    },
    "kernelspec": {
      "name": "python3",
      "display_name": "Python 3"
    }
  },
  "cells": [
    {
      "cell_type": "markdown",
      "metadata": {
        "id": "view-in-github",
        "colab_type": "text"
      },
      "source": [
        "<a href=\"https://colab.research.google.com/github/ASHTYAGI2911/Python3/blob/master/__name___in_Python.ipynb\" target=\"_parent\"><img src=\"https://colab.research.google.com/assets/colab-badge.svg\" alt=\"Open In Colab\"/></a>"
      ]
    },
    {
      "metadata": {
        "id": "q3OMX9ZZHPjz",
        "colab_type": "text"
      },
      "cell_type": "markdown",
      "source": [
        "# **\"__name__\" in Python**"
      ]
    },
    {
      "metadata": {
        "id": "maa4p1JhGvhH",
        "colab_type": "code",
        "colab": {
          "base_uri": "https://localhost:8080/",
          "height": 34
        },
        "outputId": "d67fada4-35b9-49cf-cd57-0dfdf918b296"
      },
      "cell_type": "code",
      "source": [
        "print(__name__)"
      ],
      "execution_count": 1,
      "outputs": [
        {
          "output_type": "stream",
          "text": [
            "__main__\n"
          ],
          "name": "stdout"
        }
      ]
    },
    {
      "metadata": {
        "id": "qiNlJlJeHHha",
        "colab_type": "code",
        "colab": {
          "base_uri": "https://localhost:8080/",
          "height": 34
        },
        "outputId": "b4b8fcfe-2dd0-44b6-98d1-5205039643e6"
      },
      "cell_type": "code",
      "source": [
        "if (__name__ != \"__main__\"):\n",
        "  print(\"This will not print\")          # Because __name__ is __main__ section, where all programs starts\n",
        "\n",
        "print(\"Hello Satvik!\")"
      ],
      "execution_count": 3,
      "outputs": [
        {
          "output_type": "stream",
          "text": [
            "Hello Satvik!\n"
          ],
          "name": "stdout"
        }
      ]
    }
  ]
}