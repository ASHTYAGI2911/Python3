{
  "nbformat": 4,
  "nbformat_minor": 0,
  "metadata": {
    "colab": {
      "name": "Global Vs Local.ipynb",
      "version": "0.3.2",
      "provenance": [],
      "include_colab_link": true
    },
    "kernelspec": {
      "name": "python3",
      "display_name": "Python 3"
    }
  },
  "cells": [
    {
      "cell_type": "markdown",
      "metadata": {
        "id": "view-in-github",
        "colab_type": "text"
      },
      "source": [
        "<a href=\"https://colab.research.google.com/github/ASHTYAGI2911/Python3/blob/master/Global_Vs_Local.ipynb\" target=\"_parent\"><img src=\"https://colab.research.google.com/assets/colab-badge.svg\" alt=\"Open In Colab\"/></a>"
      ]
    },
    {
      "metadata": {
        "id": "vRZO7QQK2NjF",
        "colab_type": "text"
      },
      "cell_type": "markdown",
      "source": [
        "#**Global Vs Local**"
      ]
    },
    {
      "metadata": {
        "id": "pKwevTZt3rf9",
        "colab_type": "text"
      },
      "cell_type": "markdown",
      "source": [
        "*Example* Global and local"
      ]
    },
    {
      "metadata": {
        "id": "XvuB4Zsp2Gg9",
        "colab_type": "code",
        "colab": {}
      },
      "cell_type": "code",
      "source": [
        "a = 10                                                                           # a is a global variable\n",
        "\n",
        "def change1():\n",
        "  a = 9                                                                          # Here a is a local variable\n",
        "  print(\"in change1 function a is = \", a)\n",
        "\n",
        "def change2():\n",
        "  print(\"in change2 function a is = \", a)\n",
        "\n",
        "change1()\n",
        "print(\"out of funtion a is = \", a)\n",
        "change2()"
      ],
      "execution_count": 0,
      "outputs": []
    },
    {
      "metadata": {
        "id": "94c6_z_73nNn",
        "colab_type": "code",
        "colab": {}
      },
      "cell_type": "code",
      "source": [
        "a = 10                                                                           # a is a global variable\n",
        "\n",
        "def change1():\n",
        "  global a                                                                       # Useing global keywork we can make a variable global like a\n",
        "  a = 9                                                                          # Here a is a local variable\n",
        "  print(\"in change1 function a is = \", a)\n",
        "\n",
        "def change2():\n",
        "  print(\"in change2 function a is = \", a)\n",
        "\n",
        "change1()\n",
        "print(\"out of funtion a is = \", a)\n",
        "change2()"
      ],
      "execution_count": 0,
      "outputs": []
    },
    {
      "metadata": {
        "id": "1G20Olf34fjG",
        "colab_type": "code",
        "colab": {}
      },
      "cell_type": "code",
      "source": [
        "a = 10                                                                           # a is a global variable\n",
        "b = 20\n",
        "def change1():\n",
        "  globals(b)                                                                       # Useing global keywork we can make a variable global like a\n",
        "  a = 9                                                                          # Here a is a local variable\n",
        "  print(\"in change1 function a is = \", a)\n",
        "\n",
        "def change2():\n",
        "  print(\"in change2 function a is = \", a)\n",
        "\n",
        "change1()\n",
        "print(\"out of funtion a is = \", a)\n",
        "change2()"
      ],
      "execution_count": 0,
      "outputs": []
    },
    {
      "metadata": {
        "id": "XXI23KQY5mHB",
        "colab_type": "text"
      },
      "cell_type": "markdown",
      "source": [
        "**If i want to change the global variable a=10 (in this condition) without effecting local variable a=9 (in this condition) **"
      ]
    },
    {
      "metadata": {
        "id": "Dr1vH3CW4ty2",
        "colab_type": "code",
        "colab": {}
      },
      "cell_type": "code",
      "source": [
        "a = 10                                                                           # a is a global variable\n",
        "b = 20\n",
        "\n",
        "def change1():\n",
        "  a = 9                                                                          # Here a is a local variable\n",
        "  globals()[\"a\"] = 30072019\n",
        "  print(\"in change1 function a (local) is = \", a)\n",
        "\n",
        "print(\"out of funtion a (global) is = \", a)\n",
        "change1()\n",
        "print(\"out of funtion a (global) is = \", a)\n"
      ],
      "execution_count": 0,
      "outputs": []
    }
  ]
}