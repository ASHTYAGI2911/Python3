{
  "nbformat": 4,
  "nbformat_minor": 0,
  "metadata": {
    "colab": {
      "name": "Functions.ipynb",
      "version": "0.3.2",
      "provenance": [],
      "include_colab_link": true
    },
    "kernelspec": {
      "name": "python3",
      "display_name": "Python 3"
    }
  },
  "cells": [
    {
      "cell_type": "markdown",
      "metadata": {
        "id": "view-in-github",
        "colab_type": "text"
      },
      "source": [
        "<a href=\"https://colab.research.google.com/github/ASHTYAGI2911/Python3/blob/master/Functions.ipynb\" target=\"_parent\"><img src=\"https://colab.research.google.com/assets/colab-badge.svg\" alt=\"Open In Colab\"/></a>"
      ]
    },
    {
      "metadata": {
        "id": "R6pzWnRhKinA",
        "colab_type": "text"
      },
      "cell_type": "markdown",
      "source": [
        "# **Functions**"
      ]
    },
    {
      "metadata": {
        "id": "mXdRJTV5KljA",
        "colab_type": "code",
        "colab": {}
      },
      "cell_type": "code",
      "source": [
        "def greet():\n",
        "  print('Hello World!')\n",
        "\n",
        "greet()"
      ],
      "execution_count": 0,
      "outputs": []
    },
    {
      "metadata": {
        "id": "H2GsZiLiK1Zm",
        "colab_type": "code",
        "colab": {}
      },
      "cell_type": "code",
      "source": [
        "def op_on_2_numbers(a, b, op):\n",
        "  if (op == \"+\"):\n",
        "    c = a + b\n",
        "  elif (op == \"-\"):\n",
        "    c = a - b\n",
        "  elif (op == \"*\"):\n",
        "    c = a * b\n",
        "  elif (op == \"/\"):\n",
        "    c = a / b\n",
        "  else:\n",
        "    print(\"8-) Wronge operation....\")\n",
        "    c = \"X\"\n",
        "  return c  \n",
        "  \n",
        "x = int(input(\"Enter 1st number:- \"))\n",
        "y = int(input(\"Enter 2nd number:- \"))\n",
        "o = input(\"What operation do you want to do:- \")    \n",
        "r = op_on_2_numbers(x, y, o)\n",
        "if (r != \"X\"):\n",
        "  print(x, o, y, \" = \", r)"
      ],
      "execution_count": 0,
      "outputs": []
    },
    {
      "metadata": {
        "id": "XLKdPbdyODpS",
        "colab_type": "code",
        "colab": {}
      },
      "cell_type": "code",
      "source": [
        "def sum_num(a, *b):\n",
        "  c = a\n",
        "  print(\"a=\", a)\n",
        "  print(\"out of loop b=\", b)\n",
        "  print(type(b))\n",
        "  for i in b:\n",
        "    c = c + i\n",
        "    print(\"in loop b=\", i)\n",
        "  print(c)\n",
        "\n",
        "sum_num(2, 3, 5, 6, 7)"
      ],
      "execution_count": 0,
      "outputs": []
    },
    {
      "metadata": {
        "id": "-RF4fEG2ykBX",
        "colab_type": "code",
        "colab": {}
      },
      "cell_type": "code",
      "source": [
        "def dic_num(name, **b):\n",
        "  print(\"Name = \", name)\n",
        "  print(b)\n",
        "  for i in b.keys():\n",
        "    print(i, \" = \", b.get(i))\n",
        "\n",
        "dic_num(name=\"Satvik\",age=3, car=\"Mustang\", city=\"London\", house=\"5 BHK\")"
      ],
      "execution_count": 0,
      "outputs": []
    },
    {
      "metadata": {
        "id": "ctXy0PC_0EyH",
        "colab_type": "code",
        "colab": {}
      },
      "cell_type": "code",
      "source": [
        "dict = {\"a\":1, \"b\":2, \"c\":4}\n",
        "print(dict)\n",
        "print(dict[\"a\"])\n",
        "\n",
        "for i in dict.keys():\n",
        "  print(dict.get(i))\n",
        "  print(i)"
      ],
      "execution_count": 0,
      "outputs": []
    }
  ]
}