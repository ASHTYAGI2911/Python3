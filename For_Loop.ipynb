{
  "nbformat": 4,
  "nbformat_minor": 0,
  "metadata": {
    "colab": {
      "name": "For_Loop.ipynb",
      "version": "0.3.2",
      "provenance": [],
      "include_colab_link": true
    },
    "kernelspec": {
      "name": "python3",
      "display_name": "Python 3"
    }
  },
  "cells": [
    {
      "cell_type": "markdown",
      "metadata": {
        "id": "view-in-github",
        "colab_type": "text"
      },
      "source": [
        "<a href=\"https://colab.research.google.com/github/ASHTYAGI2911/Python3/blob/master/For_Loop.ipynb\" target=\"_parent\"><img src=\"https://colab.research.google.com/assets/colab-badge.svg\" alt=\"Open In Colab\"/></a>"
      ]
    },
    {
      "metadata": {
        "id": "FAXI9otj_ZdL",
        "colab_type": "text"
      },
      "cell_type": "markdown",
      "source": [
        "# For Loop"
      ]
    },
    {
      "metadata": {
        "id": "cnNr0o7m_Uj3",
        "colab_type": "code",
        "colab": {}
      },
      "cell_type": "code",
      "source": [
        "i = range(20)\n",
        "for j in i:\n",
        "  print(j, end=\" \")"
      ],
      "execution_count": 0,
      "outputs": []
    },
    {
      "metadata": {
        "id": "i2-rpOj7_xEy",
        "colab_type": "code",
        "colab": {}
      },
      "cell_type": "code",
      "source": [
        "for i in range(10):\n",
        "  print(i, end=\" \")"
      ],
      "execution_count": 0,
      "outputs": []
    },
    {
      "metadata": {
        "id": "hnYdTR63_xIL",
        "colab_type": "code",
        "colab": {}
      },
      "cell_type": "code",
      "source": [
        "a = \"Satvik Tyagi\"\n",
        "for i in a:\n",
        "  print(i, end=\" \")"
      ],
      "execution_count": 0,
      "outputs": []
    },
    {
      "metadata": {
        "id": "xGDoiMHi_xLM",
        "colab_type": "code",
        "colab": {}
      },
      "cell_type": "code",
      "source": [
        "help()"
      ],
      "execution_count": 0,
      "outputs": []
    },
    {
      "metadata": {
        "id": "iAtlMSF4_xOT",
        "colab_type": "code",
        "colab": {}
      },
      "cell_type": "code",
      "source": [
        "a = [1, 2, 4, 6, \"Ashish\", \"Satvik\", 3.14]\n",
        "for i in a:\n",
        "  print(i, end=\" \")"
      ],
      "execution_count": 0,
      "outputs": []
    },
    {
      "metadata": {
        "id": "kwN2Rdqx_xSB",
        "colab_type": "code",
        "colab": {}
      },
      "cell_type": "code",
      "source": [
        "a = int(input(\"Enter a number that no. ot  times you want to print.:- \"))\n",
        "b = input(\"Enter a symbol that you want to print.:- \")\n",
        "for i in range(a):\n",
        "  print(b, end=\" \")"
      ],
      "execution_count": 0,
      "outputs": []
    },
    {
      "metadata": {
        "id": "Hm1WPHyoOLZ0",
        "colab_type": "text"
      },
      "cell_type": "markdown",
      "source": [
        "**Print perfect squre number between 1 to 500**"
      ]
    },
    {
      "metadata": {
        "id": "tnN-BtdF_xVK",
        "colab_type": "code",
        "colab": {}
      },
      "cell_type": "code",
      "source": [
        "for i in range(1, 501):\n",
        "  j = i * i\n",
        "  print(j, end=\" \")"
      ],
      "execution_count": 0,
      "outputs": []
    }
  ]
}