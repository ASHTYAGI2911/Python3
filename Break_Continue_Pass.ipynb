{
  "nbformat": 4,
  "nbformat_minor": 0,
  "metadata": {
    "colab": {
      "name": "Break Continue Pass.ipynb",
      "version": "0.3.2",
      "provenance": [],
      "include_colab_link": true
    },
    "kernelspec": {
      "name": "python3",
      "display_name": "Python 3"
    }
  },
  "cells": [
    {
      "cell_type": "markdown",
      "metadata": {
        "id": "view-in-github",
        "colab_type": "text"
      },
      "source": [
        "<a href=\"https://colab.research.google.com/github/ASHTYAGI2911/Python3/blob/master/Break_Continue_Pass.ipynb\" target=\"_parent\"><img src=\"https://colab.research.google.com/assets/colab-badge.svg\" alt=\"Open In Colab\"/></a>"
      ]
    },
    {
      "metadata": {
        "id": "BtBtVMcvPw87",
        "colab_type": "text"
      },
      "cell_type": "markdown",
      "source": [
        "# Break Continue Pass"
      ]
    },
    {
      "metadata": {
        "id": "Nl8ABIDhPriY",
        "colab_type": "code",
        "colab": {}
      },
      "cell_type": "code",
      "source": [
        "for i in range(20):\n",
        "  print(i, end=\" \")\n",
        "  if (i >= 9):\n",
        "    break"
      ],
      "execution_count": 0,
      "outputs": []
    },
    {
      "metadata": {
        "id": "OUjHQW-gQJJ1",
        "colab_type": "code",
        "colab": {}
      },
      "cell_type": "code",
      "source": [
        "for i in range(20):\n",
        "  if (i <= 9):\n",
        "    continue\n",
        "  print(i, end=\" \")"
      ],
      "execution_count": 0,
      "outputs": []
    },
    {
      "metadata": {
        "id": "Q0HWua-kQJM7",
        "colab_type": "code",
        "colab": {}
      },
      "cell_type": "code",
      "source": [
        "for i in \"Satvik Tyagi\":\n",
        "  if (i in [\"a\", \"e\", \"i\", \"o\", \"u\"]):\n",
        "    print(i,\"is Vowel\")\n",
        "  else:\n",
        "    pass"
      ],
      "execution_count": 0,
      "outputs": []
    },
    {
      "metadata": {
        "id": "QMDfz5EHQJQP",
        "colab_type": "code",
        "colab": {}
      },
      "cell_type": "code",
      "source": [
        "i = 1\n",
        "while i <= 10:\n",
        "  if (i % 2 == 0):\n",
        "    pass\n",
        "  else:\n",
        "    print(i)\n",
        "  i = i + 1"
      ],
      "execution_count": 0,
      "outputs": []
    },
    {
      "metadata": {
        "id": "CTDGvguAR8NJ",
        "colab_type": "text"
      },
      "cell_type": "markdown",
      "source": [
        "***Print first 50 fibonacci numbers***"
      ]
    },
    {
      "metadata": {
        "id": "B1NSWhX5QJT3",
        "colab_type": "code",
        "colab": {}
      },
      "cell_type": "code",
      "source": [
        "a = 1\n",
        "b = 0\n",
        "c = 1\n",
        "for i in range(1, 51):\n",
        "  if (i == 1):\n",
        "    print(0, end=\" \")\n",
        "  else:\n",
        "    print(c, end=\" \")\n",
        "    c = c + b\n",
        "    b = a\n",
        "    a = c"
      ],
      "execution_count": 0,
      "outputs": []
    },
    {
      "metadata": {
        "id": "FpmWH2MY1Zei",
        "colab_type": "text"
      },
      "cell_type": "markdown",
      "source": [
        "***Prime of not prime***"
      ]
    },
    {
      "metadata": {
        "id": "WOTYFz_SQJXb",
        "colab_type": "code",
        "colab": {}
      },
      "cell_type": "code",
      "source": [
        "p = 0\n",
        "a = int(input(\"Please enter a number:- \"))\n",
        "for i in range(2,a):\n",
        "  if (a % i == 0):\n",
        "    p = p + 1\n",
        "  else:\n",
        "    continue\n",
        "if (p == 0):\n",
        "  print(a, \"is a prime number.\")\n",
        "else:\n",
        "  print(a, \"is not a prime number.\")"
      ],
      "execution_count": 0,
      "outputs": []
    }
  ]
}