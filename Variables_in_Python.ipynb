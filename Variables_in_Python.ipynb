{
  "nbformat": 4,
  "nbformat_minor": 0,
  "metadata": {
    "colab": {
      "name": "Variables in Python.ipynb",
      "version": "0.3.2",
      "provenance": [],
      "include_colab_link": true
    },
    "kernelspec": {
      "name": "python3",
      "display_name": "Python 3"
    }
  },
  "cells": [
    {
      "cell_type": "markdown",
      "metadata": {
        "id": "view-in-github",
        "colab_type": "text"
      },
      "source": [
        "<a href=\"https://colab.research.google.com/github/ASHTYAGI2911/Python3/blob/master/Variables_in_Python.ipynb\" target=\"_parent\"><img src=\"https://colab.research.google.com/assets/colab-badge.svg\" alt=\"Open In Colab\"/></a>"
      ]
    },
    {
      "metadata": {
        "id": "UQcUP0VjN70c",
        "colab_type": "text"
      },
      "cell_type": "markdown",
      "source": [
        "# Variables in Python"
      ]
    },
    {
      "metadata": {
        "id": "gg0lcugzNhEa",
        "colab_type": "text"
      },
      "cell_type": "markdown",
      "source": [
        "Below code will create x, y, z & a different type variables"
      ]
    },
    {
      "metadata": {
        "id": "Kz9YgVzGKB4s",
        "colab_type": "code",
        "colab": {}
      },
      "cell_type": "code",
      "source": [
        "x = 1\n",
        "y = 1.5\n",
        "z = \"Satvik Tyagi\"\n",
        "a = True"
      ],
      "execution_count": 0,
      "outputs": []
    },
    {
      "metadata": {
        "id": "fhb82bonN52G",
        "colab_type": "text"
      },
      "cell_type": "markdown",
      "source": [
        "This is how we can find the data type of variable"
      ]
    },
    {
      "metadata": {
        "id": "09uOnk-GKmp6",
        "colab_type": "code",
        "outputId": "7d868af9-6eae-49c1-9893-21fd84924b3b",
        "colab": {
          "base_uri": "https://localhost:8080/",
          "height": 34
        }
      },
      "cell_type": "code",
      "source": [
        "print(type(x))"
      ],
      "execution_count": 0,
      "outputs": [
        {
          "output_type": "stream",
          "text": [
            "<class 'int'>\n"
          ],
          "name": "stdout"
        }
      ]
    },
    {
      "metadata": {
        "id": "r_fXx7wNKwNz",
        "colab_type": "code",
        "outputId": "31157f6c-9b1d-4061-a43d-10099ab0cf67",
        "colab": {
          "base_uri": "https://localhost:8080/",
          "height": 68
        }
      },
      "cell_type": "code",
      "source": [
        "print(type(y), \"\\n\", type(z), \"\\n\", type(a))"
      ],
      "execution_count": 0,
      "outputs": [
        {
          "output_type": "stream",
          "text": [
            "<class 'float'> \n",
            " <class 'str'> \n",
            " <class 'bool'>\n"
          ],
          "name": "stdout"
        }
      ]
    },
    {
      "metadata": {
        "id": "dsVNXC_TMuzv",
        "colab_type": "code",
        "outputId": "2ee7d95d-a8e2-4e01-da43-0080b021bf09",
        "colab": {
          "base_uri": "https://localhost:8080/",
          "height": 34
        }
      },
      "cell_type": "code",
      "source": [
        "x = 1.0\n",
        "print(type(x))"
      ],
      "execution_count": 0,
      "outputs": [
        {
          "output_type": "stream",
          "text": [
            "<class 'float'>\n"
          ],
          "name": "stdout"
        }
      ]
    },
    {
      "metadata": {
        "id": "OkkvthkEPWOT",
        "colab_type": "text"
      },
      "cell_type": "markdown",
      "source": [
        "By **id()** we can find the address of any variable"
      ]
    },
    {
      "metadata": {
        "id": "OhvWrXikM21g",
        "colab_type": "code",
        "outputId": "7c835978-908b-40fd-b8a7-c9bdb295987c",
        "colab": {
          "base_uri": "https://localhost:8080/",
          "height": 34
        }
      },
      "cell_type": "code",
      "source": [
        "print(id(x))"
      ],
      "execution_count": 0,
      "outputs": [
        {
          "output_type": "stream",
          "text": [
            "140576459604712\n"
          ],
          "name": "stdout"
        }
      ]
    },
    {
      "metadata": {
        "id": "Wto1arv3PMRX",
        "colab_type": "text"
      },
      "cell_type": "markdown",
      "source": [
        "As below we can convert the type of variable"
      ]
    },
    {
      "metadata": {
        "id": "0itsHCDgM8E4",
        "colab_type": "code",
        "outputId": "1a44050f-fc30-4199-df16-11f0a7c2e1c6",
        "colab": {
          "base_uri": "https://localhost:8080/",
          "height": 34
        }
      },
      "cell_type": "code",
      "source": [
        "x = float(a)\n",
        "print(x)"
      ],
      "execution_count": 0,
      "outputs": [
        {
          "output_type": "stream",
          "text": [
            "1.0\n"
          ],
          "name": "stdout"
        }
      ]
    },
    {
      "metadata": {
        "id": "VDOd9OelOegG",
        "colab_type": "code",
        "outputId": "6b1e0bc5-e6e8-4efb-d27e-90b9f1d34a99",
        "colab": {
          "base_uri": "https://localhost:8080/",
          "height": 51
        }
      },
      "cell_type": "code",
      "source": [
        "x = 1\n",
        "print(\"x is \", x, \" and its type is \", type(x))\n",
        "x = float(x)\n",
        "print(\"x is \", x, \" and its type is \", type(x))"
      ],
      "execution_count": 0,
      "outputs": [
        {
          "output_type": "stream",
          "text": [
            "x is  1  and its type is  <class 'int'>\n",
            "x is  1.0  and its type is  <class 'float'>\n"
          ],
          "name": "stdout"
        }
      ]
    },
    {
      "metadata": {
        "id": "0d0fUMuDPhuC",
        "colab_type": "code",
        "colab": {}
      },
      "cell_type": "code",
      "source": [
        ""
      ],
      "execution_count": 0,
      "outputs": []
    }
  ]
}