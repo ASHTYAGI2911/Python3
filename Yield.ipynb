{
  "nbformat": 4,
  "nbformat_minor": 0,
  "metadata": {
    "colab": {
      "name": "Yield.ipynb",
      "version": "0.3.2",
      "provenance": [],
      "include_colab_link": true
    },
    "kernelspec": {
      "name": "python3",
      "display_name": "Python 3"
    },
    "accelerator": "GPU"
  },
  "cells": [
    {
      "cell_type": "markdown",
      "metadata": {
        "id": "view-in-github",
        "colab_type": "text"
      },
      "source": [
        "<a href=\"https://colab.research.google.com/github/ASHTYAGI2911/Python3/blob/master/Yield.ipynb\" target=\"_parent\"><img src=\"https://colab.research.google.com/assets/colab-badge.svg\" alt=\"Open In Colab\"/></a>"
      ]
    },
    {
      "metadata": {
        "id": "d_g89pumabrP",
        "colab_type": "text"
      },
      "cell_type": "markdown",
      "source": [
        "# Yield"
      ]
    },
    {
      "metadata": {
        "id": "tSqRsAsMY2i7",
        "colab_type": "code",
        "colab": {}
      },
      "cell_type": "code",
      "source": [
        "def print1000():\n",
        "  \n",
        "  n = 1\n",
        "  while n <= 10000:\n",
        "    yield pow(n,2)\n",
        "    n += 1\n",
        "\n",
        "\n",
        "val = print1000()\n",
        "\n",
        "for i in val:\n",
        "  print(i)"
      ],
      "execution_count": 0,
      "outputs": []
    }
  ]
}