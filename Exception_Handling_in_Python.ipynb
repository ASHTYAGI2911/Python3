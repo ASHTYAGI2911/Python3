{
  "nbformat": 4,
  "nbformat_minor": 0,
  "metadata": {
    "colab": {
      "name": "Exception Handling in Python.ipynb",
      "version": "0.3.2",
      "provenance": [],
      "include_colab_link": true
    },
    "kernelspec": {
      "name": "python3",
      "display_name": "Python 3"
    }
  },
  "cells": [
    {
      "cell_type": "markdown",
      "metadata": {
        "id": "view-in-github",
        "colab_type": "text"
      },
      "source": [
        "<a href=\"https://colab.research.google.com/github/ASHTYAGI2911/Python3/blob/master/Exception_Handling_in_Python.ipynb\" target=\"_parent\"><img src=\"https://colab.research.google.com/assets/colab-badge.svg\" alt=\"Open In Colab\"/></a>"
      ]
    },
    {
      "metadata": {
        "id": "EumJiad4asmB",
        "colab_type": "text"
      },
      "cell_type": "markdown",
      "source": [
        "# ** Exception Handling in Python ** "
      ]
    },
    {
      "metadata": {
        "id": "wat_2pF5alRI",
        "colab_type": "code",
        "colab": {}
      },
      "cell_type": "code",
      "source": [
        "a = int(input(\"Enter a number: \"))\n",
        "b = int(input(\"Enter a number: \"))\n",
        "\n",
        "try:\n",
        "  \n",
        "  c = a / b\n",
        "  print(\"Division complete Bye!\", c)\n",
        "\n",
        "except Exception as e:\n",
        "  print(\"Divide by Zero\", e)\n",
        "\n",
        "finally:\n",
        "  print(\"End of the program.  :-)\")"
      ],
      "execution_count": 0,
      "outputs": []
    }
  ]
}