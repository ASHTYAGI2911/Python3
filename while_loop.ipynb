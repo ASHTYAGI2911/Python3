{
  "nbformat": 4,
  "nbformat_minor": 0,
  "metadata": {
    "colab": {
      "name": "while_loop.ipynb",
      "version": "0.3.2",
      "provenance": [],
      "include_colab_link": true
    },
    "kernelspec": {
      "name": "python3",
      "display_name": "Python 3"
    }
  },
  "cells": [
    {
      "cell_type": "markdown",
      "metadata": {
        "id": "view-in-github",
        "colab_type": "text"
      },
      "source": [
        "<a href=\"https://colab.research.google.com/github/ASHTYAGI2911/Python3/blob/master/while_loop.ipynb\" target=\"_parent\"><img src=\"https://colab.research.google.com/assets/colab-badge.svg\" alt=\"Open In Colab\"/></a>"
      ]
    },
    {
      "metadata": {
        "id": "zhpgVCwkLUuj",
        "colab_type": "text"
      },
      "cell_type": "markdown",
      "source": [
        "# While Loop"
      ]
    },
    {
      "metadata": {
        "id": "s0eLSIThLQtR",
        "colab_type": "code",
        "colab": {
          "base_uri": "https://localhost:8080/",
          "height": 102
        },
        "outputId": "cea67e7c-2e5a-47d0-ac65-d34b6cb996a8"
      },
      "cell_type": "code",
      "source": [
        "i = 1\n",
        "while i <= 5:\n",
        "  print(i)\n",
        "  i = i + 1"
      ],
      "execution_count": 3,
      "outputs": [
        {
          "output_type": "stream",
          "text": [
            "1\n",
            "2\n",
            "3\n",
            "4\n",
            "5\n"
          ],
          "name": "stdout"
        }
      ]
    },
    {
      "metadata": {
        "id": "8rBHkT_JMZAP",
        "colab_type": "text"
      },
      "cell_type": "markdown",
      "source": [
        "-----------------------------------------------------------------------------------------------Print all the number from 0 to 100 and divible by 3 or 5"
      ]
    },
    {
      "metadata": {
        "id": "FbWFph01MYEL",
        "colab_type": "code",
        "colab": {
          "base_uri": "https://localhost:8080/",
          "height": 136
        },
        "outputId": "fe50062c-7931-4aea-a029-ccc6b41f333f"
      },
      "cell_type": "code",
      "source": [
        "i = 0\n",
        "while (i <= 100):\n",
        "  if (i % 3 == 0 and i % 5 == 0):\n",
        "    print(i)\n",
        "  i = i + 1   "
      ],
      "execution_count": 8,
      "outputs": [
        {
          "output_type": "stream",
          "text": [
            "0\n",
            "15\n",
            "30\n",
            "45\n",
            "60\n",
            "75\n",
            "90\n"
          ],
          "name": "stdout"
        }
      ]
    },
    {
      "metadata": {
        "id": "AFBRnfYSMYIC",
        "colab_type": "code",
        "colab": {
          "base_uri": "https://localhost:8080/",
          "height": 102
        },
        "outputId": "59a01c90-93cf-401a-e237-86375de07bb5"
      },
      "cell_type": "code",
      "source": [
        "i = 1\n",
        "while i <= 5:\n",
        "  j = 1\n",
        "  while j <= 5:\n",
        "    print(\"# \", end=\"\")\n",
        "    j = j + 1\n",
        "  i = i + 1\n",
        "  print()"
      ],
      "execution_count": 20,
      "outputs": [
        {
          "output_type": "stream",
          "text": [
            "# # # # # \n",
            "# # # # # \n",
            "# # # # # \n",
            "# # # # # \n",
            "# # # # # \n"
          ],
          "name": "stdout"
        }
      ]
    }
  ]
}