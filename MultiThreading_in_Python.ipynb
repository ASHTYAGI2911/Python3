{
  "nbformat": 4,
  "nbformat_minor": 0,
  "metadata": {
    "colab": {
      "name": "MultiThreading in Python.ipynb",
      "version": "0.3.2",
      "provenance": [],
      "include_colab_link": true
    },
    "kernelspec": {
      "name": "python3",
      "display_name": "Python 3"
    }
  },
  "cells": [
    {
      "cell_type": "markdown",
      "metadata": {
        "id": "view-in-github",
        "colab_type": "text"
      },
      "source": [
        "<a href=\"https://colab.research.google.com/github/ASHTYAGI2911/Python3/blob/master/MultiThreading_in_Python.ipynb\" target=\"_parent\"><img src=\"https://colab.research.google.com/assets/colab-badge.svg\" alt=\"Open In Colab\"/></a>"
      ]
    },
    {
      "metadata": {
        "id": "mwE5bFmcd91t",
        "colab_type": "text"
      },
      "cell_type": "markdown",
      "source": [
        "# **MultiThreading in Python**"
      ]
    },
    {
      "metadata": {
        "id": "3GTm73IEcehi",
        "colab_type": "code",
        "colab": {}
      },
      "cell_type": "code",
      "source": [
        "from threading import *\n",
        "from time import sleep\n",
        "\n",
        "class hello(Thread):\n",
        "  \n",
        "  def run(self):\n",
        "    for i in range(1,10):\n",
        "      print(\"Hello\")\n",
        "      sleep(1)\n",
        "      \n",
        "      \n",
        "class hi(Thread):\n",
        "  \n",
        "  def run(self):\n",
        "    for i in range(1,10):\n",
        "      print(\"Hi\")\n",
        "      sleep(1)\n",
        "      \n",
        "h1 = hello()\n",
        "h2 = hi()\n",
        "\n",
        "h1.start()\n",
        "sleep(1)\n",
        "h2.start()\n",
        "\n",
        "\n",
        "h1.join()\n",
        "h2.join()\n",
        "print(\"Bye!\")"
      ],
      "execution_count": 0,
      "outputs": []
    }
  ]
}