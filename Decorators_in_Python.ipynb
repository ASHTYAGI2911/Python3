{
  "nbformat": 4,
  "nbformat_minor": 0,
  "metadata": {
    "colab": {
      "name": "Decorators in Python.ipynb",
      "version": "0.3.2",
      "provenance": [],
      "include_colab_link": true
    },
    "kernelspec": {
      "name": "python3",
      "display_name": "Python 3"
    }
  },
  "cells": [
    {
      "cell_type": "markdown",
      "metadata": {
        "id": "view-in-github",
        "colab_type": "text"
      },
      "source": [
        "<a href=\"https://colab.research.google.com/github/ASHTYAGI2911/Python3/blob/master/Decorators_in_Python.ipynb\" target=\"_parent\"><img src=\"https://colab.research.google.com/assets/colab-badge.svg\" alt=\"Open In Colab\"/></a>"
      ]
    },
    {
      "metadata": {
        "id": "x3TtqAxHGRRz",
        "colab_type": "text"
      },
      "cell_type": "markdown",
      "source": [
        "# **Decorators in Python**"
      ]
    },
    {
      "metadata": {
        "id": "EDThwAiADfUF",
        "colab_type": "code",
        "colab": {}
      },
      "cell_type": "code",
      "source": [
        "def div(a, b):\n",
        "  c = a / b\n",
        "  return c\n",
        "\n",
        "print(div(1, 4))"
      ],
      "execution_count": 0,
      "outputs": []
    },
    {
      "metadata": {
        "id": "ASsyDLdZGUfK",
        "colab_type": "text"
      },
      "cell_type": "markdown",
      "source": [
        "Any time we divide 1 / 4 Decorators will change the value 4 / 1.\n",
        "\n",
        "Always grater value go up"
      ]
    },
    {
      "metadata": {
        "id": "ACkICPpvFB4E",
        "colab_type": "code",
        "colab": {}
      },
      "cell_type": "code",
      "source": [
        "def div(a, b):\n",
        "  c = a / b\n",
        "  return c\n",
        "\n",
        "def smart_div(func):\n",
        "  \n",
        "  def inner(a, b):\n",
        "    if (a < b):\n",
        "      a, b = b, a\n",
        "    return func(a, b)\n",
        "  return inner\n",
        "\n",
        "\n",
        "div = smart_div(div)\n",
        "\n",
        "r = div(1, 4)\n",
        "print(r)"
      ],
      "execution_count": 0,
      "outputs": []
    }
  ]
}