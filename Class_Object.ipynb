{
  "nbformat": 4,
  "nbformat_minor": 0,
  "metadata": {
    "colab": {
      "name": "Class_Object.ipynb",
      "version": "0.3.2",
      "provenance": [],
      "collapsed_sections": [],
      "include_colab_link": true
    },
    "kernelspec": {
      "name": "python3",
      "display_name": "Python 3"
    }
  },
  "cells": [
    {
      "cell_type": "markdown",
      "metadata": {
        "id": "view-in-github",
        "colab_type": "text"
      },
      "source": [
        "<a href=\"https://colab.research.google.com/github/ASHTYAGI2911/Python3/blob/master/Class_Object.ipynb\" target=\"_parent\"><img src=\"https://colab.research.google.com/assets/colab-badge.svg\" alt=\"Open In Colab\"/></a>"
      ]
    },
    {
      "metadata": {
        "id": "cFK4A4wwSc9S",
        "colab_type": "text"
      },
      "cell_type": "markdown",
      "source": [
        "# ** Class_Object **"
      ]
    },
    {
      "metadata": {
        "id": "QzZQrrMnJpp9",
        "colab_type": "text"
      },
      "cell_type": "markdown",
      "source": [
        "                                                              Simple class example"
      ]
    },
    {
      "metadata": {
        "id": "DKH-7dk7SXnL",
        "colab_type": "code",
        "colab": {}
      },
      "cell_type": "code",
      "source": [
        "class computer:\n",
        "  \n",
        "  def __init__(self, ram, cpu, pro):\n",
        "    self.ram = ram\n",
        "    self.cpu = cpu\n",
        "    self.pro = pro\n",
        "    \n",
        "  def config(self):\n",
        "    print(self.ram, self.cpu, self.pro)\n",
        "\n",
        "    \n",
        "c1 = computer(8, \"Windows\", \"i10\")\n",
        "c2 = computer(16, \"IOS\", \"120\")\n",
        "c1.config()\n",
        "c2.config()"
      ],
      "execution_count": 0,
      "outputs": []
    },
    {
      "metadata": {
        "id": "oamkEy2UKFYJ",
        "colab_type": "text"
      },
      "cell_type": "markdown",
      "source": [
        "                               Example of Class with instance, class & static methods.\n",
        "                               and instance/class variables and static variables"
      ]
    },
    {
      "metadata": {
        "id": "BlZSoyYUZGGx",
        "colab_type": "code",
        "colab": {}
      },
      "cell_type": "code",
      "source": [
        "class per_info:\n",
        "  \n",
        "  hair_col = \"Black\"               # This is a static variable\n",
        "  \n",
        "  def __init__(self):\n",
        "    self.name = \"Satvik Tyagi\"      # This is a instance/Class variable\n",
        "    self.age = 3                    # This is a instance/Class variable\n",
        "  \n",
        "  def show(self):\n",
        "    print(\"Name\", self.name, \"& age\", self.age, \"and hair color is\", self.hair_col)\n",
        "    \n",
        "  def compare(self, other):\n",
        "    if (self.age == other.age):\n",
        "      return True\n",
        "    else:\n",
        "      return False\n",
        "\n",
        "  @classmethod\n",
        "  def change_hair_col(cls, a):             # This is a class method, we use \"cls\" instead of \"self\"\n",
        "    cls.hair_col = a\n",
        "    \n",
        "  @staticmethod\n",
        "  def about_cls():                         # This is a static method, we use \"\" instead of \"self\" or \"cls\"\n",
        "    print(\"This class display information about person.\")\n",
        "  \n",
        "\n",
        "\n",
        "per_info.about_cls()\n",
        "\n",
        "per_info.hair_col = \"Brown\"            # This is how we can update a class variable\n",
        "\n",
        "per_info.change_hair_col(\"Red\")        # This is how we can use class methods\n",
        "\n",
        "\n",
        "p1 = per_info()\n",
        "p1.show()\n",
        "\n",
        "p2 = per_info()\n",
        "p2.name = \"Ashish Tyagi\"\n",
        "p2.age = 3\n",
        "p2.show()\n",
        "\n",
        "\n",
        "# Compare ages p1 and p2\n",
        "if (p1.compare(p2)):\n",
        "  print(\"Ages are same.\")\n",
        "else:\n",
        "  print(\"Ages are different\")\n"
      ],
      "execution_count": 0,
      "outputs": []
    },
    {
      "metadata": {
        "id": "0dKW9TaMLOb8",
        "colab_type": "text"
      },
      "cell_type": "markdown",
      "source": [
        "                                                            Inner class example"
      ]
    },
    {
      "metadata": {
        "id": "ZtV0O_5pLwVE",
        "colab_type": "code",
        "colab": {}
      },
      "cell_type": "code",
      "source": [
        "class student:\n",
        "  \n",
        "  def __init__(self, name, m1):\n",
        "    self.name = name\n",
        "    self.marks = m1\n",
        "    self.lap = self.computer()\n",
        "  \n",
        "  def show(self):\n",
        "    print(\"Name & marks in subject a is -\", self.name, self.marks)\n",
        "    self.lap.show()\n",
        "    \n",
        "    \n",
        "  class computer:                            # Here i create a inner class computer\n",
        "    \n",
        "    def __init__(self):\n",
        "      self.ram = \"16GB\"\n",
        "      self.cpu = \"IOS\"\n",
        "      \n",
        "    def show(self):                          # This show method is for inner class computer\n",
        "      print(\"have computer with ram and cpu\", self.ram, self.cpu)\n",
        "\n",
        "\n",
        "      \n",
        "s1 = student(\"Satvik\", 99)\n",
        "s2 = student(\"Ashish\", 80)\n",
        "\n",
        "s1.show()\n",
        "s2.show()"
      ],
      "execution_count": 0,
      "outputs": []
    }
  ]
}