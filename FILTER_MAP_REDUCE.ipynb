{
  "nbformat": 4,
  "nbformat_minor": 0,
  "metadata": {
    "colab": {
      "name": "FILTER MAP REDUCE.ipynb",
      "version": "0.3.2",
      "provenance": [],
      "include_colab_link": true
    },
    "kernelspec": {
      "name": "python3",
      "display_name": "Python 3"
    }
  },
  "cells": [
    {
      "cell_type": "markdown",
      "metadata": {
        "id": "view-in-github",
        "colab_type": "text"
      },
      "source": [
        "<a href=\"https://colab.research.google.com/github/ASHTYAGI2911/Python3/blob/master/FILTER_MAP_REDUCE.ipynb\" target=\"_parent\"><img src=\"https://colab.research.google.com/assets/colab-badge.svg\" alt=\"Open In Colab\"/></a>"
      ]
    },
    {
      "metadata": {
        "id": "59zOFBJHAPbh",
        "colab_type": "text"
      },
      "cell_type": "markdown",
      "source": [
        "# **FILTER MAP REDUCE**"
      ]
    },
    {
      "metadata": {
        "id": "_eD4CBXGASGy",
        "colab_type": "text"
      },
      "cell_type": "markdown",
      "source": [
        "* Filter"
      ]
    },
    {
      "metadata": {
        "id": "ZPdXX3txAIzI",
        "colab_type": "code",
        "colab": {}
      },
      "cell_type": "code",
      "source": [
        "a = [2, 5, 7, 8, 9, 8, 10, 12, 21]\n",
        "\n",
        "f = list(filter(lambda b : b % 2 == 0, a))\n",
        "\n",
        "print(f)"
      ],
      "execution_count": 0,
      "outputs": []
    },
    {
      "metadata": {
        "id": "KQdTOQl_BHxk",
        "colab_type": "code",
        "colab": {}
      },
      "cell_type": "code",
      "source": [
        "a = [250, 550, 77, 100, 880, 889, 899, 100, 1552, 21]\n",
        "\n",
        "f = list(filter(lambda b : b <= 100, a))\n",
        "\n",
        "print(f)"
      ],
      "execution_count": 0,
      "outputs": []
    },
    {
      "metadata": {
        "id": "0bHNUMO5B7Xa",
        "colab_type": "text"
      },
      "cell_type": "markdown",
      "source": [
        "* Map"
      ]
    },
    {
      "metadata": {
        "id": "8BsIxqUpB-Qa",
        "colab_type": "code",
        "colab": {}
      },
      "cell_type": "code",
      "source": [
        "a = [21, 5, 7, 81, 9, 8, 10, 12, 21]\n",
        "\n",
        "c = list(filter(lambda d : d % 2 != 0, a))\n",
        "print(c)\n",
        "\n",
        "m = list(map(lambda b: b * 2, c))\n",
        "\n",
        "print(m)\n"
      ],
      "execution_count": 0,
      "outputs": []
    },
    {
      "metadata": {
        "id": "x1gzIqRECvK4",
        "colab_type": "text"
      },
      "cell_type": "markdown",
      "source": [
        "* Reduce"
      ]
    },
    {
      "metadata": {
        "id": "i-vXfnoaB-OQ",
        "colab_type": "code",
        "colab": {}
      },
      "cell_type": "code",
      "source": [
        "from functools import reduce\n",
        "\n",
        "a = [21, 5, 7, 81, 9, 8, 10, 12, 21]\n",
        "\n",
        "r = reduce(lambda c,d : c + d, a)\n",
        "\n",
        "print(r)"
      ],
      "execution_count": 0,
      "outputs": []
    }
  ]
}