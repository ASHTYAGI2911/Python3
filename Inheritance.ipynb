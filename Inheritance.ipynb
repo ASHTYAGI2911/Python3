{
  "nbformat": 4,
  "nbformat_minor": 0,
  "metadata": {
    "colab": {
      "name": "Inheritance.ipynb",
      "version": "0.3.2",
      "provenance": [],
      "include_colab_link": true
    },
    "kernelspec": {
      "name": "python3",
      "display_name": "Python 3"
    }
  },
  "cells": [
    {
      "cell_type": "markdown",
      "metadata": {
        "id": "view-in-github",
        "colab_type": "text"
      },
      "source": [
        "<a href=\"https://colab.research.google.com/github/ASHTYAGI2911/Python3/blob/master/Inheritance.ipynb\" target=\"_parent\"><img src=\"https://colab.research.google.com/assets/colab-badge.svg\" alt=\"Open In Colab\"/></a>"
      ]
    },
    {
      "metadata": {
        "id": "mVzBUNJmK4x3",
        "colab_type": "text"
      },
      "cell_type": "markdown",
      "source": [
        "# ** Inheritance **"
      ]
    },
    {
      "metadata": {
        "id": "qPDygS46KRmc",
        "colab_type": "code",
        "colab": {}
      },
      "cell_type": "code",
      "source": [
        "class A:\n",
        "  \n",
        "  def __init__(self):\n",
        "    print(\"in Class A init\")\n",
        "  \n",
        "  def fun1(self):\n",
        "    print(\"Class A Function 1\")\n",
        "  \n",
        "  def fun2(self):\n",
        "    print(\"Class A Function 2\")\n",
        "\n",
        "class B:\n",
        "  \n",
        "  def __init__(self):\n",
        "    print(\"in Class B init\")\n",
        "  \n",
        "  def fun1(self):\n",
        "    print(\"Class B Function 1\")\n",
        "  \n",
        "  def fun2(self):\n",
        "    print(\"Class B Function 2\")\n",
        "\n",
        "\n",
        "a1 = A()\n",
        "a2 = A()\n",
        "b1 = B()\n",
        "b2 = B()\n"
      ],
      "execution_count": 0,
      "outputs": []
    },
    {
      "metadata": {
        "id": "0jViIM8xL3Ie",
        "colab_type": "code",
        "colab": {}
      },
      "cell_type": "code",
      "source": [
        "class A:\n",
        "  \n",
        "  def __init__(self):\n",
        "    print(\"in Class A init\")\n",
        "  \n",
        "  def fun1(self):\n",
        "    print(\"Class A Function 1\")\n",
        "  \n",
        "  def fun2(self):\n",
        "    print(\"Class A Function 2\")\n",
        "\n",
        "class B:\n",
        "  \n",
        "  def __init__(self):\n",
        "    print(\"in Class B init\")\n",
        "  \n",
        "  def fun1(self):\n",
        "    print(\"Class B Function 1\")\n",
        "  \n",
        "  def fun2(self):\n",
        "    print(\"Class B Function 2\")\n",
        "\n",
        "class C(A, B):\n",
        "  \n",
        "  def __init__(self):\n",
        "    super().__init__()\n",
        "    print(\"in Class C init\")\n",
        "  \n",
        "  def fun1(self):\n",
        "    super().fun1()\n",
        "    print(\"Class C Function 1\")\n",
        "  \n",
        "  def fun2(self):\n",
        "    print(\"Class C Function 2\")\n",
        "\n",
        "\n",
        "b2 = C()\n",
        "b2.fun1()\n"
      ],
      "execution_count": 0,
      "outputs": []
    }
  ]
}