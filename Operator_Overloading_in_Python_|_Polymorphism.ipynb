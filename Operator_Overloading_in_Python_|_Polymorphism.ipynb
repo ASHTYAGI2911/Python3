{
  "nbformat": 4,
  "nbformat_minor": 0,
  "metadata": {
    "colab": {
      "name": "Operator Overloading in Python | Polymorphism.ipynb",
      "version": "0.3.2",
      "provenance": [],
      "include_colab_link": true
    },
    "kernelspec": {
      "name": "python3",
      "display_name": "Python 3"
    }
  },
  "cells": [
    {
      "cell_type": "markdown",
      "metadata": {
        "id": "view-in-github",
        "colab_type": "text"
      },
      "source": [
        "<a href=\"https://colab.research.google.com/github/ASHTYAGI2911/Python3/blob/master/Operator_Overloading_in_Python_%7C_Polymorphism.ipynb\" target=\"_parent\"><img src=\"https://colab.research.google.com/assets/colab-badge.svg\" alt=\"Open In Colab\"/></a>"
      ]
    },
    {
      "metadata": {
        "id": "8rlXCaxFQD3d",
        "colab_type": "text"
      },
      "cell_type": "markdown",
      "source": [
        "# **Operator Overloading in Python | Polymorphism**"
      ]
    },
    {
      "metadata": {
        "id": "-jdhtJZdP65r",
        "colab_type": "code",
        "colab": {}
      },
      "cell_type": "code",
      "source": [
        "class student:\n",
        "  \n",
        "  def __init__(self, name, m1, m2):\n",
        "    self.name = name\n",
        "    self.m1 = m1\n",
        "    self.m2 = m2\n",
        "  \n",
        "  \n",
        "  def show(self):\n",
        "    print(self.name, self.m1, self.m2)\n",
        "    \n",
        "  \n",
        "  def __add__(self, other):\n",
        "    r1 = self.m1 + other.m1\n",
        "    r2 = self.m2 + other.m2\n",
        "    return r1, r2\n",
        "  \n",
        "  def __gt__(self, other):\n",
        "    if ((self.m1+self.m2) > (other.m1+other.m2)):\n",
        "      return True\n",
        "    else:\n",
        "      return False\n",
        "    \n",
        "  \n",
        "  \n",
        "s1 = student(\"Satvik\", 100, 99)\n",
        "\n",
        "s2 = student(\"Shiv\", 99, 99)\n",
        "\n",
        "s1.show()\n",
        "\n",
        "print(s1 > s2)\n",
        "\n",
        "r1, r2 = s1 + s2\n",
        "print(r1, r2)"
      ],
      "execution_count": 0,
      "outputs": []
    },
    {
      "metadata": {
        "id": "KRKRPEIVQIMu",
        "colab_type": "code",
        "colab": {}
      },
      "cell_type": "code",
      "source": [
        ""
      ],
      "execution_count": 0,
      "outputs": []
    }
  ]
}