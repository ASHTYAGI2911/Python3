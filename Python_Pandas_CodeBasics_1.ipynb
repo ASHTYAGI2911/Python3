{
  "nbformat": 4,
  "nbformat_minor": 0,
  "metadata": {
    "colab": {
      "name": "Python_Pandas_CodeBasics_1.ipynb",
      "version": "0.3.2",
      "provenance": [],
      "collapsed_sections": [],
      "include_colab_link": true
    },
    "kernelspec": {
      "name": "python3",
      "display_name": "Python 3"
    }
  },
  "cells": [
    {
      "cell_type": "markdown",
      "metadata": {
        "id": "view-in-github",
        "colab_type": "text"
      },
      "source": [
        "<a href=\"https://colab.research.google.com/github/ASHTYAGI2911/Python3/blob/master/Python_Pandas_CodeBasics_1.ipynb\" target=\"_parent\"><img src=\"https://colab.research.google.com/assets/colab-badge.svg\" alt=\"Open In Colab\"/></a>"
      ]
    },
    {
      "cell_type": "markdown",
      "metadata": {
        "id": "9Se_02fOUyaw",
        "colab_type": "text"
      },
      "source": [
        "# Python_Pandas_Tutorial1_CodeBasics"
      ]
    },
    {
      "cell_type": "markdown",
      "metadata": {
        "id": "Yc4J7GdqUyXz",
        "colab_type": "text"
      },
      "source": [
        "[Tutorial 1](https://www.youtube.com/watch?v=CmorAWRsCAw&list=PLeo1K3hjS3uuASpe-1LjfG5f14Bnozjwy)"
      ]
    },
    {
      "cell_type": "code",
      "metadata": {
        "id": "03-P1AZNUnY6",
        "colab_type": "code",
        "colab": {}
      },
      "source": [
        "import pandas as pd\n",
        "from google.colab import files\n",
        "import io"
      ],
      "execution_count": 0,
      "outputs": []
    },
    {
      "cell_type": "code",
      "metadata": {
        "id": "6SgBv31PVU04",
        "colab_type": "code",
        "colab": {}
      },
      "source": [
        "load_here = files.upload()"
      ],
      "execution_count": 0,
      "outputs": []
    },
    {
      "cell_type": "code",
      "metadata": {
        "id": "BJ9UeddIVUwo",
        "colab_type": "code",
        "colab": {}
      },
      "source": [
        "df = pd.read_csv(io.StringIO(load_here[\"NY_Weather.csv\"].decode(\"utf-8\")))\n",
        "df"
      ],
      "execution_count": 0,
      "outputs": []
    },
    {
      "cell_type": "code",
      "metadata": {
        "id": "WHfoq9KhVUti",
        "colab_type": "code",
        "colab": {}
      },
      "source": [
        "df.columns"
      ],
      "execution_count": 0,
      "outputs": []
    },
    {
      "cell_type": "code",
      "metadata": {
        "id": "j2n0gVYcVUo-",
        "colab_type": "code",
        "colab": {}
      },
      "source": [
        "df[\"Temperature\"].max()"
      ],
      "execution_count": 0,
      "outputs": []
    },
    {
      "cell_type": "code",
      "metadata": {
        "id": "_GdvEnFHVUly",
        "colab_type": "code",
        "colab": {}
      },
      "source": [
        "df[\"EST\"][df[\"Events\"]==\"Rain\"]"
      ],
      "execution_count": 0,
      "outputs": []
    },
    {
      "cell_type": "code",
      "metadata": {
        "id": "CTLCbceIVUiT",
        "colab_type": "code",
        "colab": {}
      },
      "source": [
        "df.head()"
      ],
      "execution_count": 0,
      "outputs": []
    },
    {
      "cell_type": "code",
      "metadata": {
        "id": "nGKPZswlVUfH",
        "colab_type": "code",
        "colab": {}
      },
      "source": [
        "df[\"WindSpeedMPH\"].mean()"
      ],
      "execution_count": 0,
      "outputs": []
    },
    {
      "cell_type": "code",
      "metadata": {
        "id": "xay62RFMVUcL",
        "colab_type": "code",
        "colab": {}
      },
      "source": [
        "df[\"WindSpeedMPH\"].fillna(0, inplace=True)\n",
        "df[\"WindSpeedMPH\"].mean()"
      ],
      "execution_count": 0,
      "outputs": []
    },
    {
      "cell_type": "markdown",
      "metadata": {
        "id": "Qoc2beIfaDSE",
        "colab_type": "text"
      },
      "source": [
        "[Tutorials 2](https://www.youtube.com/watch?v=F6kmIpWWEdU&list=PLeo1K3hjS3uuASpe-1LjfG5f14Bnozjwy&index=2)"
      ]
    },
    {
      "cell_type": "code",
      "metadata": {
        "id": "rK6NCrOqVUYZ",
        "colab_type": "code",
        "colab": {}
      },
      "source": [
        "load_here = files.upload()"
      ],
      "execution_count": 0,
      "outputs": []
    },
    {
      "cell_type": "code",
      "metadata": {
        "id": "s3nZAhQMVUUu",
        "colab_type": "code",
        "colab": {}
      },
      "source": [
        "df = pd.read_csv(io.StringIO(load_here[\"weather_data.csv\"].decode(\"utf-8\")))\n",
        "df"
      ],
      "execution_count": 0,
      "outputs": []
    },
    {
      "cell_type": "code",
      "metadata": {
        "id": "Bok6AP8aVURi",
        "colab_type": "code",
        "colab": {}
      },
      "source": [
        "df.shape"
      ],
      "execution_count": 0,
      "outputs": []
    },
    {
      "cell_type": "code",
      "metadata": {
        "id": "U0HGJ3hwVUOw",
        "colab_type": "code",
        "colab": {}
      },
      "source": [
        "rows, columns = df.shape"
      ],
      "execution_count": 0,
      "outputs": []
    },
    {
      "cell_type": "code",
      "metadata": {
        "id": "ox5xKiKzacC4",
        "colab_type": "code",
        "colab": {}
      },
      "source": [
        "rows"
      ],
      "execution_count": 0,
      "outputs": []
    },
    {
      "cell_type": "code",
      "metadata": {
        "id": "akh7yigBacAp",
        "colab_type": "code",
        "colab": {}
      },
      "source": [
        "df[2:5]"
      ],
      "execution_count": 0,
      "outputs": []
    },
    {
      "cell_type": "code",
      "metadata": {
        "id": "Y48buERPab8L",
        "colab_type": "code",
        "colab": {}
      },
      "source": [
        "df.columns"
      ],
      "execution_count": 0,
      "outputs": []
    },
    {
      "cell_type": "code",
      "metadata": {
        "id": "ljNZDI16ab5c",
        "colab_type": "code",
        "colab": {}
      },
      "source": [
        "df[\"event\"]"
      ],
      "execution_count": 0,
      "outputs": []
    },
    {
      "cell_type": "code",
      "metadata": {
        "id": "4NU8NROTab2y",
        "colab_type": "code",
        "colab": {}
      },
      "source": [
        "df[[\"event\", \"day\"]]"
      ],
      "execution_count": 0,
      "outputs": []
    },
    {
      "cell_type": "code",
      "metadata": {
        "id": "sUGFAmjnabxq",
        "colab_type": "code",
        "colab": {}
      },
      "source": [
        "df"
      ],
      "execution_count": 0,
      "outputs": []
    },
    {
      "cell_type": "code",
      "metadata": {
        "id": "nsubv_MCabuu",
        "colab_type": "code",
        "colab": {}
      },
      "source": [
        "df[\"temperature\"].max()\n",
        "df[\"temperature\"].mean()\n",
        "df['temperature'].std()"
      ],
      "execution_count": 0,
      "outputs": []
    },
    {
      "cell_type": "code",
      "metadata": {
        "id": "6McdvAD4abqy",
        "colab_type": "code",
        "colab": {}
      },
      "source": [
        "df.describe()"
      ],
      "execution_count": 0,
      "outputs": []
    },
    {
      "cell_type": "code",
      "metadata": {
        "id": "Sw-ZCU7yabnQ",
        "colab_type": "code",
        "colab": {}
      },
      "source": [
        "df[df[\"temperature\"]>=32]"
      ],
      "execution_count": 0,
      "outputs": []
    },
    {
      "cell_type": "code",
      "metadata": {
        "id": "bIvcuTrEablR",
        "colab_type": "code",
        "colab": {}
      },
      "source": [
        "df[df[\"temperature\"]==df[\"temperature\"].max()]"
      ],
      "execution_count": 0,
      "outputs": []
    },
    {
      "cell_type": "code",
      "metadata": {
        "id": "vZOw87_Eabip",
        "colab_type": "code",
        "colab": {}
      },
      "source": [
        "df[\"day\"][df[\"temperature\"]==df[\"temperature\"].max()]"
      ],
      "execution_count": 0,
      "outputs": []
    },
    {
      "cell_type": "code",
      "metadata": {
        "id": "o4IAu-4vabdk",
        "colab_type": "code",
        "colab": {}
      },
      "source": [
        "df[[\"day\", \"event\"]][df[\"temperature\"]==df[\"temperature\"].max()]"
      ],
      "execution_count": 0,
      "outputs": []
    },
    {
      "cell_type": "code",
      "metadata": {
        "id": "HMkTRJNjabbV",
        "colab_type": "code",
        "colab": {}
      },
      "source": [
        "df"
      ],
      "execution_count": 0,
      "outputs": []
    },
    {
      "cell_type": "code",
      "metadata": {
        "id": "XRvfEcrsabXB",
        "colab_type": "code",
        "colab": {}
      },
      "source": [
        "df.index"
      ],
      "execution_count": 0,
      "outputs": []
    },
    {
      "cell_type": "code",
      "metadata": {
        "id": "16OF-LfAabTB",
        "colab_type": "code",
        "colab": {}
      },
      "source": [
        "df.set_index(\"day\", inplace=True)\n",
        "df"
      ],
      "execution_count": 0,
      "outputs": []
    },
    {
      "cell_type": "code",
      "metadata": {
        "id": "yMshf3lVabQB",
        "colab_type": "code",
        "colab": {}
      },
      "source": [
        "df.index"
      ],
      "execution_count": 0,
      "outputs": []
    },
    {
      "cell_type": "code",
      "metadata": {
        "id": "mJ5zAzKNabOE",
        "colab_type": "code",
        "colab": {}
      },
      "source": [
        "df.loc[\"1/2/2017\"]"
      ],
      "execution_count": 0,
      "outputs": []
    },
    {
      "cell_type": "code",
      "metadata": {
        "id": "dxfsRHXDabIp",
        "colab_type": "code",
        "colab": {}
      },
      "source": [
        "df.reset_index(inplace=True)"
      ],
      "execution_count": 0,
      "outputs": []
    },
    {
      "cell_type": "code",
      "metadata": {
        "id": "UupgbH7jabE7",
        "colab_type": "code",
        "colab": {}
      },
      "source": [
        "df"
      ],
      "execution_count": 0,
      "outputs": []
    },
    {
      "cell_type": "code",
      "metadata": {
        "id": "RdaeHLr-abA8",
        "colab_type": "code",
        "colab": {}
      },
      "source": [
        "df.set_index(\"event\", inplace=True)\n",
        "df"
      ],
      "execution_count": 0,
      "outputs": []
    },
    {
      "cell_type": "code",
      "metadata": {
        "id": "-j1HUrhraa-i",
        "colab_type": "code",
        "colab": {}
      },
      "source": [
        "df.loc[\"Snow\"]"
      ],
      "execution_count": 0,
      "outputs": []
    },
    {
      "cell_type": "markdown",
      "metadata": {
        "id": "GqdPCD20aaMa",
        "colab_type": "text"
      },
      "source": [
        ""
      ]
    }
  ]
}