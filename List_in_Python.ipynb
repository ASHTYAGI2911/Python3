{
  "nbformat": 4,
  "nbformat_minor": 0,
  "metadata": {
    "colab": {
      "name": "List in Python.ipynb",
      "version": "0.3.2",
      "provenance": [],
      "include_colab_link": true
    },
    "kernelspec": {
      "name": "python3",
      "display_name": "Python 3"
    }
  },
  "cells": [
    {
      "cell_type": "markdown",
      "metadata": {
        "id": "view-in-github",
        "colab_type": "text"
      },
      "source": [
        "<a href=\"https://colab.research.google.com/github/ASHTYAGI2911/Python3/blob/master/List_in_Python.ipynb\" target=\"_parent\"><img src=\"https://colab.research.google.com/assets/colab-badge.svg\" alt=\"Open In Colab\"/></a>"
      ]
    },
    {
      "metadata": {
        "id": "ZCxxuiN9RLzd",
        "colab_type": "text"
      },
      "cell_type": "markdown",
      "source": [
        "#List in Python"
      ]
    },
    {
      "metadata": {
        "id": "XDBFZRKXRfXM",
        "colab_type": "text"
      },
      "cell_type": "markdown",
      "source": [
        "In Python we can create a list by [] bracktes **List can contain different type of data**"
      ]
    },
    {
      "metadata": {
        "id": "5lBctsDDREjM",
        "colab_type": "code",
        "colab": {
          "base_uri": "https://localhost:8080/",
          "height": 34
        },
        "outputId": "46416729-c323-4fee-af0f-c27ac5a1477b"
      },
      "cell_type": "code",
      "source": [
        "x = [1, 2, 3, 6, 8, 9, 4]\n",
        "print(x)"
      ],
      "execution_count": 1,
      "outputs": [
        {
          "output_type": "stream",
          "text": [
            "[1, 2, 3, 6, 8, 9, 4]\n"
          ],
          "name": "stdout"
        }
      ]
    },
    {
      "metadata": {
        "id": "sBxE0BB_Rx_P",
        "colab_type": "code",
        "colab": {
          "base_uri": "https://localhost:8080/",
          "height": 34
        },
        "outputId": "c90c5952-c1c5-4d98-bc67-23c067edcc59"
      },
      "cell_type": "code",
      "source": [
        "PI = 3.14\n",
        "x = [\"Satvik Tyagi\", 1, True, 5.0, PI, 369]\n",
        "print(x)"
      ],
      "execution_count": 3,
      "outputs": [
        {
          "output_type": "stream",
          "text": [
            "['Satvik Tyagi', 1, True, 5.0, 3.14, 369]\n"
          ],
          "name": "stdout"
        }
      ]
    },
    {
      "metadata": {
        "id": "3gYMgdFoSUVL",
        "colab_type": "text"
      },
      "cell_type": "markdown",
      "source": [
        "We can access data from the list by indics, starting from 0"
      ]
    },
    {
      "metadata": {
        "id": "eLrr6vwhSKKO",
        "colab_type": "code",
        "colab": {
          "base_uri": "https://localhost:8080/",
          "height": 51
        },
        "outputId": "62e8fe21-d576-4121-8e95-f7dc7a7a9108"
      },
      "cell_type": "code",
      "source": [
        "print(x[0])\n",
        "x[0]"
      ],
      "execution_count": 5,
      "outputs": [
        {
          "output_type": "stream",
          "text": [
            "Satvik Tyagi\n"
          ],
          "name": "stdout"
        },
        {
          "output_type": "execute_result",
          "data": {
            "text/plain": [
              "'Satvik Tyagi'"
            ]
          },
          "metadata": {
            "tags": []
          },
          "execution_count": 5
        }
      ]
    },
    {
      "metadata": {
        "id": "iiopZi5ZSlaN",
        "colab_type": "text"
      },
      "cell_type": "markdown",
      "source": [
        "if we want to access last element from list we can you -1 indics, like below"
      ]
    },
    {
      "metadata": {
        "id": "1KjUjd2RSdY3",
        "colab_type": "code",
        "colab": {
          "base_uri": "https://localhost:8080/",
          "height": 51
        },
        "outputId": "ecec470c-e80c-4e5f-ac9c-b41abfc3e001"
      },
      "cell_type": "code",
      "source": [
        "print(x)\n",
        "print(x[-1])"
      ],
      "execution_count": 6,
      "outputs": [
        {
          "output_type": "stream",
          "text": [
            "['Satvik Tyagi', 1, True, 5.0, 3.14, 369]\n",
            "369\n"
          ],
          "name": "stdout"
        }
      ]
    },
    {
      "metadata": {
        "id": "vtfBN3_MSxOQ",
        "colab_type": "code",
        "colab": {
          "base_uri": "https://localhost:8080/",
          "height": 34
        },
        "outputId": "f699d3c2-0982-4faf-8205-5117474b3b94"
      },
      "cell_type": "code",
      "source": [
        "type(x)"
      ],
      "execution_count": 11,
      "outputs": [
        {
          "output_type": "execute_result",
          "data": {
            "text/plain": [
              "list"
            ]
          },
          "metadata": {
            "tags": []
          },
          "execution_count": 11
        }
      ]
    },
    {
      "metadata": {
        "id": "KjefE6CxS4Jl",
        "colab_type": "code",
        "colab": {
          "base_uri": "https://localhost:8080/",
          "height": 34
        },
        "outputId": "5f56db4e-9ae9-4065-cd4e-6b41b02524eb"
      },
      "cell_type": "code",
      "source": [
        "print(type(x))"
      ],
      "execution_count": 13,
      "outputs": [
        {
          "output_type": "stream",
          "text": [
            "<class 'list'>\n"
          ],
          "name": "stdout"
        }
      ]
    },
    {
      "metadata": {
        "id": "Y1j21g8KTqJA",
        "colab_type": "code",
        "colab": {
          "base_uri": "https://localhost:8080/",
          "height": 34
        },
        "outputId": "6a6ae97e-8dcc-4c69-f5f0-41af0aa9ce1f"
      },
      "cell_type": "code",
      "source": [
        "a = \"Satvik Tyagi\"\n",
        "a[0]"
      ],
      "execution_count": 15,
      "outputs": [
        {
          "output_type": "execute_result",
          "data": {
            "text/plain": [
              "'S'"
            ]
          },
          "metadata": {
            "tags": []
          },
          "execution_count": 15
        }
      ]
    },
    {
      "metadata": {
        "id": "vRkBEJSTTyPJ",
        "colab_type": "code",
        "colab": {
          "base_uri": "https://localhost:8080/",
          "height": 34
        },
        "outputId": "e48fb310-f6f6-4814-f64c-5327d7ee511e"
      },
      "cell_type": "code",
      "source": [
        "print(a[0])"
      ],
      "execution_count": 16,
      "outputs": [
        {
          "output_type": "stream",
          "text": [
            "S\n"
          ],
          "name": "stdout"
        }
      ]
    },
    {
      "metadata": {
        "id": "QmlZ-N6ATyUW",
        "colab_type": "code",
        "colab": {}
      },
      "cell_type": "code",
      "source": [
        ""
      ],
      "execution_count": 0,
      "outputs": []
    }
  ]
}