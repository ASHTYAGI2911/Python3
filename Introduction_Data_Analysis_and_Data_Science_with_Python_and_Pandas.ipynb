{
  "nbformat": 4,
  "nbformat_minor": 0,
  "metadata": {
    "colab": {
      "name": "Introduction - Data Analysis and Data Science with Python and Pandas.ipynb",
      "version": "0.3.2",
      "provenance": [],
      "collapsed_sections": [],
      "include_colab_link": true
    },
    "kernelspec": {
      "name": "python3",
      "display_name": "Python 3"
    },
    "accelerator": "GPU"
  },
  "cells": [
    {
      "cell_type": "markdown",
      "metadata": {
        "id": "view-in-github",
        "colab_type": "text"
      },
      "source": [
        "<a href=\"https://colab.research.google.com/github/ASHTYAGI2911/Python3/blob/master/Introduction_Data_Analysis_and_Data_Science_with_Python_and_Pandas.ipynb\" target=\"_parent\"><img src=\"https://colab.research.google.com/assets/colab-badge.svg\" alt=\"Open In Colab\"/></a>"
      ]
    },
    {
      "cell_type": "markdown",
      "metadata": {
        "id": "EKXplFpfki5S",
        "colab_type": "text"
      },
      "source": [
        "#                                                                        Introduction - Data Analysis and Data Science with Python and Pandas"
      ]
    },
    {
      "cell_type": "markdown",
      "metadata": {
        "id": "wEFIWFoVTeGf",
        "colab_type": "text"
      },
      "source": [
        "                                                       **Based on Avocado Data set on Kaggle!**"
      ]
    },
    {
      "cell_type": "markdown",
      "metadata": {
        "id": "fUhanovujQgN",
        "colab_type": "text"
      },
      "source": [
        "[Introduction - Data Analysis and Data Science with Python and Pandas By SENTDEX](https://www.youtube.com/watch?v=nLw1RNvfElg&list=PLQVvvaa0QuDfSfqQuee6K8opKtZsh7sA9)"
      ]
    },
    {
      "cell_type": "code",
      "metadata": {
        "id": "354Yf8LmrLaq",
        "colab_type": "code",
        "colab": {}
      },
      "source": [
        "!pip --version"
      ],
      "execution_count": 0,
      "outputs": []
    },
    {
      "cell_type": "code",
      "metadata": {
        "id": "cna7uwy6hd6y",
        "colab_type": "code",
        "colab": {}
      },
      "source": [
        "!pip install pandas matplotlib                 "
      ],
      "execution_count": 0,
      "outputs": []
    },
    {
      "cell_type": "code",
      "metadata": {
        "id": "nhszdrwMN86G",
        "colab_type": "code",
        "colab": {}
      },
      "source": [
        "import pandas as pd                            #Import libraries into program"
      ],
      "execution_count": 0,
      "outputs": []
    },
    {
      "cell_type": "code",
      "metadata": {
        "id": "SlvGaeXMOLYK",
        "colab_type": "code",
        "colab": {}
      },
      "source": [
        "from google.colab import files                 #in this part i am using google.colab files method to download file to google colab\n",
        "uploaded = files.upload()"
      ],
      "execution_count": 0,
      "outputs": []
    },
    {
      "cell_type": "code",
      "metadata": {
        "id": "6JcI2mZ3OLKT",
        "colab_type": "code",
        "colab": {}
      },
      "source": [
        "import io\n",
        "df = pd.read_csv(io.StringIO(uploaded[\"avocado.csv\"].decode(\"utf-8\")))"
      ],
      "execution_count": 0,
      "outputs": []
    },
    {
      "cell_type": "code",
      "metadata": {
        "id": "8H5UWpUgOLG4",
        "colab_type": "code",
        "colab": {}
      },
      "source": [
        "df.head()"
      ],
      "execution_count": 0,
      "outputs": []
    },
    {
      "cell_type": "code",
      "metadata": {
        "id": "e5o6lZwUV6ZE",
        "colab_type": "code",
        "colab": {}
      },
      "source": [
        "df.tail(2)"
      ],
      "execution_count": 0,
      "outputs": []
    },
    {
      "cell_type": "code",
      "metadata": {
        "id": "7ywy6UXrOLD9",
        "colab_type": "code",
        "colab": {}
      },
      "source": [
        "df[\"AveragePrice\"]\n",
        "df[\"AveragePrice\"].head()\n",
        "df.AveragePrice.head()"
      ],
      "execution_count": 0,
      "outputs": []
    },
    {
      "cell_type": "code",
      "metadata": {
        "id": "3S-4yvDjOLBJ",
        "colab_type": "code",
        "colab": {}
      },
      "source": [
        "albany_df = df.copy()[df[\"region\"] == \"Albany\"]\n",
        "albany_df.head()"
      ],
      "execution_count": 0,
      "outputs": []
    },
    {
      "cell_type": "code",
      "metadata": {
        "id": "OJWUKh26OK7c",
        "colab_type": "code",
        "colab": {}
      },
      "source": [
        "albany_df.index"
      ],
      "execution_count": 0,
      "outputs": []
    },
    {
      "cell_type": "code",
      "metadata": {
        "id": "24tVFVYTOK4e",
        "colab_type": "code",
        "colab": {}
      },
      "source": [
        "albany_df.set_index(\"Date\")"
      ],
      "execution_count": 0,
      "outputs": []
    },
    {
      "cell_type": "code",
      "metadata": {
        "id": "7bfYGTZnOK1o",
        "colab_type": "code",
        "colab": {}
      },
      "source": [
        "albany_df = albany_df.set_index(\"Date\")\n",
        "# albany_df.set_index(\"Date\", inplace=True)"
      ],
      "execution_count": 0,
      "outputs": []
    },
    {
      "cell_type": "code",
      "metadata": {
        "id": "Whrd6N94OKys",
        "colab_type": "code",
        "colab": {}
      },
      "source": [
        "albany_df.head()"
      ],
      "execution_count": 0,
      "outputs": []
    },
    {
      "cell_type": "code",
      "metadata": {
        "id": "7QwfkYq-OKtD",
        "colab_type": "code",
        "colab": {}
      },
      "source": [
        "albany_df.plot()"
      ],
      "execution_count": 0,
      "outputs": []
    },
    {
      "cell_type": "code",
      "metadata": {
        "id": "7DJ8lr1qiy2j",
        "colab_type": "code",
        "colab": {}
      },
      "source": [
        "albany_df[\"AveragePrice\"].plot()"
      ],
      "execution_count": 0,
      "outputs": []
    },
    {
      "cell_type": "markdown",
      "metadata": {
        "id": "nE_FLP1skfPj",
        "colab_type": "text"
      },
      "source": [
        "[Graphing/visualization - Data Analysis with Python and Pandas p.2](https://www.youtube.com/watch?v=DamIIzp41Jg&list=PLQVvvaa0QuDfSfqQuee6K8opKtZsh7sA9&index=2)"
      ]
    },
    {
      "cell_type": "code",
      "metadata": {
        "id": "9lZCJL8siyy_",
        "colab_type": "code",
        "colab": {}
      },
      "source": [
        "import pandas as pd\n",
        "import io\n",
        "from google.colab import files\n",
        "load_here = files.upload()"
      ],
      "execution_count": 0,
      "outputs": []
    },
    {
      "cell_type": "code",
      "metadata": {
        "id": "CK7FJ6-qiyvm",
        "colab_type": "code",
        "colab": {}
      },
      "source": [
        "df = pd.read_csv(io.StringIO(load_here[\"avocado.csv\"].decode(\"utf-8\")))\n",
        "df[\"Date\"] = pd.to_datetime(df[\"Date\"])\n",
        "df.set_index(\"Date\", inplace=True)\n",
        "df.sort_index(inplace=True)              # This is why we already indexed Date\n",
        "albany_df = df.copy()[ df[\"region\"] == \"Albany\"]\n",
        "albany_df[\"AveragePrice\"].plot()"
      ],
      "execution_count": 0,
      "outputs": []
    },
    {
      "cell_type": "code",
      "metadata": {
        "id": "I48hGMgriyte",
        "colab_type": "code",
        "colab": {}
      },
      "source": [
        "#albany_df.set_index(\"Date\", inplace=True)\n",
        "albany_df.sort_index(inplace=True)\n",
        "# albany_df.sort_values(By=\"Date\", ascending=True, inplace=True)\n",
        "\n",
        "albany_df[\"AveragePrice\"].rolling(25).mean().plot()"
      ],
      "execution_count": 0,
      "outputs": []
    },
    {
      "cell_type": "code",
      "metadata": {
        "id": "jykLkhZIiyqf",
        "colab_type": "code",
        "colab": {}
      },
      "source": [
        "albany_df[\"Price25ma\"] = albany_df[\"AveragePrice\"].rolling(25).mean()"
      ],
      "execution_count": 0,
      "outputs": []
    },
    {
      "cell_type": "code",
      "metadata": {
        "id": "C-C_Zvs_iymW",
        "colab_type": "code",
        "colab": {}
      },
      "source": [
        "albany_df.head(5)\n",
        "\n",
        "albany_df.index"
      ],
      "execution_count": 0,
      "outputs": []
    },
    {
      "cell_type": "code",
      "metadata": {
        "id": "H9DFKVnBiyjH",
        "colab_type": "code",
        "colab": {}
      },
      "source": [
        "albany_df.dropna(inplace=True)"
      ],
      "execution_count": 0,
      "outputs": []
    },
    {
      "cell_type": "code",
      "metadata": {
        "id": "mbb142qTiygr",
        "colab_type": "code",
        "colab": {}
      },
      "source": [
        "albany_df.head()"
      ],
      "execution_count": 0,
      "outputs": []
    },
    {
      "cell_type": "code",
      "metadata": {
        "id": "cmyqMjURiyaD",
        "colab_type": "code",
        "colab": {}
      },
      "source": [
        "df[\"region\"].unique()\n",
        "df.dropna(inplace=True)"
      ],
      "execution_count": 0,
      "outputs": []
    },
    {
      "cell_type": "code",
      "metadata": {
        "id": "RtQ06JugGBRE",
        "colab_type": "code",
        "colab": {}
      },
      "source": [
        "df[\"region\"].values"
      ],
      "execution_count": 0,
      "outputs": []
    },
    {
      "cell_type": "code",
      "metadata": {
        "id": "b9KO86nxiyXm",
        "colab_type": "code",
        "colab": {}
      },
      "source": [
        "graph_df = pd.DataFrame()\n",
        "for region in df[\"region\"].unique():\n",
        "  print(region)\n",
        "  region_df = df.copy()[ df[\"region\"] == region ]\n",
        "  #region_df.set_index(\"Date\", inplace=True)\n",
        "  #region_df.sort_index(inplace=True)\n",
        "  region_df[f\"{region}_price25mma\"] = region_df[\"AveragePrice\"].rolling(25).mean()\n",
        "  \n",
        "  if graph_df.empty:\n",
        "    graph_df = region_df[[f\"{region}_price25ma\"]]\n",
        "  else:\n",
        "    graph_df = graph_df.join(region_df[f\"{region}_price25ma\"])\n",
        "    "
      ],
      "execution_count": 0,
      "outputs": []
    },
    {
      "cell_type": "markdown",
      "metadata": {
        "id": "6x2dg9n1LIJA",
        "colab_type": "text"
      },
      "source": [
        "--------------------------------------------------------------------------------------------------------------------------------------"
      ]
    },
    {
      "cell_type": "code",
      "metadata": {
        "id": "pwQFyqkdiyUS",
        "colab_type": "code",
        "colab": {}
      },
      "source": [
        "df = pd.read_csv(io.StringIO(load_here[\"avocado.csv\"].decode(\"utf-8\")))"
      ],
      "execution_count": 0,
      "outputs": []
    },
    {
      "cell_type": "code",
      "metadata": {
        "id": "KHO24ItbiyRX",
        "colab_type": "code",
        "colab": {}
      },
      "source": [
        "df[\"Date\"] = pd.to_datetime(df[\"Date\"])\n",
        "df.sort_values(\"Date\", ascending=True, inplace=True)\n",
        "\n",
        "df.columns\n",
        "\n",
        "# Other way to scure system creashed use only one Type \"'organic', 'conventional'\"\n",
        "df[\"type\"].unique()\n",
        "df = df.copy()[ df[\"type\"] == \"organic\"]"
      ],
      "execution_count": 0,
      "outputs": []
    },
    {
      "cell_type": "markdown",
      "metadata": {
        "id": "ez2dbMfZPZ27",
        "colab_type": "text"
      },
      "source": [
        "**This Below syntax use too much RAM hance the system crashed so we used only [:16]**"
      ]
    },
    {
      "cell_type": "code",
      "metadata": {
        "id": "ZPqTBY8liyOi",
        "colab_type": "code",
        "colab": {}
      },
      "source": [
        "graph_df = pd.DataFrame()\n",
        "\n",
        "for region in df[\"region\"].unique():\n",
        "  print(region)\n",
        "  \n",
        "  region_df = df.copy()[df[\"region\"] == region]\n",
        "  region_df = region_df.set_index(\"Date\")\n",
        "  region_df = region_df.sort_index()\n",
        "  region_df[f\"{region}_price25ma\"] = region_df[\"AveragePrice\"].rolling(25).mean()\n",
        "  \n",
        "  if graph_df.empty:\n",
        "    graph_df = region_df[[f\"{region}_price25ma\"]]\n",
        "  else:\n",
        "    graph_df = graph_df.join(region_df[f\"{region}_price25ma\"])\n",
        "    \n",
        "graph_df.tail()"
      ],
      "execution_count": 0,
      "outputs": []
    },
    {
      "cell_type": "code",
      "metadata": {
        "id": "3GrdiRZ7iyLb",
        "colab_type": "code",
        "colab": {}
      },
      "source": [
        "graph_df.head(3)"
      ],
      "execution_count": 0,
      "outputs": []
    },
    {
      "cell_type": "code",
      "metadata": {
        "id": "6aYgdBWCiyJp",
        "colab_type": "code",
        "colab": {}
      },
      "source": [
        "graph_df.dropna(axis=0)      # axis=0 (Default By Row) axis=1 coulmns"
      ],
      "execution_count": 0,
      "outputs": []
    },
    {
      "cell_type": "code",
      "metadata": {
        "id": "ZiULrmkAiyFb",
        "colab_type": "code",
        "colab": {}
      },
      "source": [
        "graph_df.plot()"
      ],
      "execution_count": 0,
      "outputs": []
    },
    {
      "cell_type": "code",
      "metadata": {
        "id": "VKeB0VDBQ0i1",
        "colab_type": "code",
        "colab": {}
      },
      "source": [
        "graph_df.plot(figsize=(10,7), legend=False)"
      ],
      "execution_count": 0,
      "outputs": []
    },
    {
      "cell_type": "code",
      "metadata": {
        "id": "qOut-f-2Q0c_",
        "colab_type": "code",
        "colab": {}
      },
      "source": [
        "graph_df.dropna().plot(figsize=(10,7), legend=False)"
      ],
      "execution_count": 0,
      "outputs": []
    },
    {
      "cell_type": "markdown",
      "metadata": {
        "id": "vyc6jUAquFdW",
        "colab_type": "text"
      },
      "source": [
        "----------------------------------------------------------------------------------\n",
        "Now i use the pandas code to reshap data by region\n",
        "----------------------------------------------------------------------------------"
      ]
    },
    {
      "cell_type": "code",
      "metadata": {
        "id": "7XRkUw7iQ0bB",
        "colab_type": "code",
        "colab": {}
      },
      "source": [
        "import pandas as pd\n",
        "import io\n",
        "from google.colab import files"
      ],
      "execution_count": 0,
      "outputs": []
    },
    {
      "cell_type": "code",
      "metadata": {
        "id": "KvALqvIQu3ZA",
        "colab_type": "code",
        "colab": {}
      },
      "source": [
        "load_here = files.upload()"
      ],
      "execution_count": 0,
      "outputs": []
    },
    {
      "cell_type": "code",
      "metadata": {
        "id": "zsD-kTfIu3XQ",
        "colab_type": "code",
        "colab": {}
      },
      "source": [
        "df = pd.read_csv(io.StringIO(load_here[\"avocado.csv\"].decode(\"utf-8\")))\n",
        "df = df.copy()\n",
        "df[\"price25ma\"] = df[\"AveragePrice\"].rolling(25).mean()"
      ],
      "execution_count": 0,
      "outputs": []
    },
    {
      "cell_type": "code",
      "metadata": {
        "id": "75j0iw_0u3VK",
        "colab_type": "code",
        "colab": {}
      },
      "source": [
        "df.columns"
      ],
      "execution_count": 0,
      "outputs": []
    },
    {
      "cell_type": "code",
      "metadata": {
        "id": "ARpijNrEu3Qv",
        "colab_type": "code",
        "colab": {}
      },
      "source": [
        "# This below code will creshed if we will not divide data into Tupe\n",
        "# As mentioned in above code\n",
        "\n",
        "region_df = pd.DataFrame()\n",
        "\n",
        "for region, group in df.groupby(\"region\"):\n",
        "  #print(region)\n",
        "  \n",
        "  if region_df.empty:\n",
        "    region_df = group.set_index(\"Date\")[[\"price25ma\"]].rename(columns={\"price25ma\":f\"{region}_price25ma\"})\n",
        "  else:\n",
        "    region_df = region_df.join(group.set_index(\"Date\")[[\"price25ma\"]].rename(columns={\"price25ma\":f\"{region}_price25ma\"}))\n",
        "    \n",
        "region_df.head()"
      ],
      "execution_count": 0,
      "outputs": []
    }
  ]
}